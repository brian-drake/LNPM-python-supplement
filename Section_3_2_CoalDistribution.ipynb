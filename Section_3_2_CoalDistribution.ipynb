{
  "nbformat": 4,
  "nbformat_minor": 0,
  "metadata": {
    "kernelspec": {
      "display_name": "Python 3",
      "language": "python",
      "name": "python3"
    },
    "language_info": {
      "codemirror_mode": {
        "name": "ipython",
        "version": 3
      },
      "file_extension": ".py",
      "mimetype": "text/x-python",
      "name": "python",
      "nbconvert_exporter": "python",
      "pygments_lexer": "ipython3",
      "version": "3.7.1"
    },
    "colab": {
      "name": "Section_3_2_CoalDistribution_complete.ipynb",
      "provenance": [],
      "collapsed_sections": []
    }
  },
  "cells": [
    {
      "cell_type": "markdown",
      "metadata": {
        "id": "sysy9pXNIbPU",
        "colab_type": "text"
      },
      "source": [
        "<h1>Section 3.2.1 A Coal Distribution Problem</h1>\n",
        "\n",
        "In this notebook we use <code>pulp</code> to solve the coal distribution problem.  We start by loading the necessary packages and entering the data from the text as an array."
      ]
    },
    {
      "cell_type": "code",
      "metadata": {
        "id": "WREC3k7wIbPY",
        "colab_type": "code",
        "colab": {}
      },
      "source": [
        "!pip install pulp\n",
        "\n",
        "import numpy as np\n",
        "import pulp"
      ],
      "execution_count": 0,
      "outputs": []
    },
    {
      "cell_type": "code",
      "metadata": {
        "id": "XKcslDL2IbPi",
        "colab_type": "code",
        "colab": {}
      },
      "source": [
        "MineToCityCosts=np.array([\n",
        "    [2,3,2,4],\n",
        "    [4,2,2,1],\n",
        "    [3,4,3,1]\n",
        "])\n",
        "print(MineToCityCosts)\n",
        "print(MineToCityCosts[0][1])"
      ],
      "execution_count": 0,
      "outputs": []
    },
    {
      "cell_type": "markdown",
      "metadata": {
        "id": "htsRcqSoIbPu",
        "colab_type": "text"
      },
      "source": [
        "As always with pulp, we create an object for the LP to which we will add the objective function and constraints."
      ]
    },
    {
      "cell_type": "code",
      "metadata": {
        "id": "04dJeNvXIbPx",
        "colab_type": "code",
        "colab": {}
      },
      "source": [
        "CoalLP = pulp.LpProblem(\"Coal_Distribution_Problem\",pulp.LpMinimize)"
      ],
      "execution_count": 0,
      "outputs": []
    },
    {
      "cell_type": "markdown",
      "metadata": {
        "id": "ns2ZaGNLIbP7",
        "colab_type": "text"
      },
      "source": [
        "We will need to create 12 decision variables.  To begin we create a list of the mines and a list of the cities.  We use integers, rather than strings, in the lists so that they may also index the rows and columns of the cost matrix.\n",
        "\n",
        "The code <code>Mines=range(3)</code> is essentially equivalent to <code>Mines=[0,1,2]</code> "
      ]
    },
    {
      "cell_type": "code",
      "metadata": {
        "id": "mkiYE6xAIbP-",
        "colab_type": "code",
        "colab": {}
      },
      "source": [
        "Mines=range(3)\n",
        "Cities=range(4)"
      ],
      "execution_count": 0,
      "outputs": []
    },
    {
      "cell_type": "markdown",
      "metadata": {
        "id": "ziah_6jSIbQF",
        "colab_type": "text"
      },
      "source": [
        "Now we create dictionary for the decision variables.  This means that instead of indivicually creating each of the 12 variables with a command such as <code>x12 = LPVariable(...)</code>, we create all of them at once.  The dictionary is named <code>x</code> and the decision variables are accessed by <code>x[1][2]</code>, for example.  (The indexing is slightly different from the text, since Python always begins with 0.  That means <code>x[0][2]</code> is a decision variable but <code>x[3][2]</code> is not.)\n",
        "\n",
        "We include options that the variables have a minimum value of 0, no upper bound, and may take non-integer values."
      ]
    },
    {
      "cell_type": "code",
      "metadata": {
        "id": "jR_H6zV5IbQJ",
        "colab_type": "code",
        "colab": {}
      },
      "source": [
        "x = pulp.LpVariable.dicts(\"x\",(Mines,Cities),0,None,pulp.LpContinuous)"
      ],
      "execution_count": 0,
      "outputs": []
    },
    {
      "cell_type": "markdown",
      "metadata": {
        "id": "NpNogc0ZIbQQ",
        "colab_type": "text"
      },
      "source": [
        "Next we include the objective function.  We multiply each decision variable, representing the amount shipped from a particular mine to a particular city, and the associated cost of shipment given by the matrix entry.  Then we sum these 12 terms to give the total cost."
      ]
    },
    {
      "cell_type": "code",
      "metadata": {
        "id": "-xZ5t480IbQT",
        "colab_type": "code",
        "colab": {}
      },
      "source": [
        "CoalLP += sum(x[mine][city]*MineToCityCosts[mine,city] for mine in Mines for city in Cities), \"Total_Cost\""
      ],
      "execution_count": 0,
      "outputs": []
    },
    {
      "cell_type": "code",
      "metadata": {
        "id": "21r2YN8AIbQa",
        "colab_type": "code",
        "colab": {}
      },
      "source": [
        "CoalLP"
      ],
      "execution_count": 0,
      "outputs": []
    },
    {
      "cell_type": "markdown",
      "metadata": {
        "id": "zVXiwnaTIbQh",
        "colab_type": "text"
      },
      "source": [
        "Next we add our constraints.  We need constraints that we meet demand in each city, and that we do not exceed supply from any mine."
      ]
    },
    {
      "cell_type": "code",
      "metadata": {
        "id": "007dDGeaIbQj",
        "colab_type": "code",
        "colab": {}
      },
      "source": [
        "Demand=[4,3,5,2]\n",
        "\n",
        "for city in Cities:\n",
        "    CoalLP += sum(x[mine][city] for mine in Mines) >= Demand[city]"
      ],
      "execution_count": 0,
      "outputs": []
    },
    {
      "cell_type": "code",
      "metadata": {
        "id": "mJUvJxiVIbQp",
        "colab_type": "code",
        "colab": {}
      },
      "source": [
        "Supply=[5,5,4]\n",
        "\n",
        "for mine in Mines:\n",
        "    CoalLP += sum(x[mine][city] for city in Cities) <= Supply[mine]"
      ],
      "execution_count": 0,
      "outputs": []
    },
    {
      "cell_type": "code",
      "metadata": {
        "id": "dZVLLfLmIbQ1",
        "colab_type": "code",
        "colab": {}
      },
      "source": [
        "CoalLP"
      ],
      "execution_count": 0,
      "outputs": []
    },
    {
      "cell_type": "code",
      "metadata": {
        "id": "B4yp8xVdIbQ4",
        "colab_type": "code",
        "colab": {}
      },
      "source": [
        "CoalLP.solve()\n",
        "print(\"Status:\", pulp.LpStatus[CoalLP.status])"
      ],
      "execution_count": 0,
      "outputs": []
    },
    {
      "cell_type": "code",
      "metadata": {
        "id": "Fp2mbsatIbQ6",
        "colab_type": "code",
        "colab": {}
      },
      "source": [
        "pulp.value(CoalLP.objective)"
      ],
      "execution_count": 0,
      "outputs": []
    },
    {
      "cell_type": "code",
      "metadata": {
        "id": "6_onTbjdIbQ9",
        "colab_type": "code",
        "colab": {}
      },
      "source": [
        "for v in CoalLP.variables():\n",
        "    print(v.name, \"=\", v.varValue)"
      ],
      "execution_count": 0,
      "outputs": []
    },
    {
      "cell_type": "markdown",
      "metadata": {
        "id": "mvnYKnm5IbQ_",
        "colab_type": "text"
      },
      "source": [
        "We might want to only print the decision variables with positive values.  The following code shows one method."
      ]
    },
    {
      "cell_type": "code",
      "metadata": {
        "scrolled": true,
        "id": "kFpl-715IbRA",
        "colab_type": "code",
        "colab": {}
      },
      "source": [
        "for v in CoalLP.variables():\n",
        "    if v.varValue > 0.1:\n",
        "        print(v.name, \"=\", v.varValue)"
      ],
      "execution_count": 0,
      "outputs": []
    },
    {
      "cell_type": "markdown",
      "metadata": {
        "id": "f1p2uMVRIbRC",
        "colab_type": "text"
      },
      "source": [
        "It is also possible to convert the solution to an array to be read more easily.  Here is one method."
      ]
    },
    {
      "cell_type": "code",
      "metadata": {
        "id": "B0fqngbtIbRD",
        "colab_type": "code",
        "colab": {}
      },
      "source": [
        "SolutionArray=np.asarray([[x[mine][city].varValue for city in Cities] for mine in Mines])\n",
        "print(SolutionArray)"
      ],
      "execution_count": 0,
      "outputs": []
    },
    {
      "cell_type": "code",
      "metadata": {
        "id": "-tJ7fVyrIbRF",
        "colab_type": "code",
        "colab": {}
      },
      "source": [
        ""
      ],
      "execution_count": 0,
      "outputs": []
    }
  ]
}