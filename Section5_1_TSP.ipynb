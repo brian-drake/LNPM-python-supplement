{
  "nbformat": 4,
  "nbformat_minor": 0,
  "metadata": {
    "colab": {
      "name": "TSP_michigan.ipynb",
      "provenance": [],
      "collapsed_sections": []
    },
    "kernelspec": {
      "name": "python3",
      "display_name": "Python 3"
    }
  },
  "cells": [
    {
      "cell_type": "code",
      "metadata": {
        "id": "o7FjuSUK2Hvp",
        "colab_type": "code",
        "colab": {}
      },
      "source": [
        "!pip install pulp\n",
        "\n",
        "import pulp\n",
        "import requests\n",
        "import numpy as np\n",
        "import matplotlib.pyplot as plt"
      ],
      "execution_count": 0,
      "outputs": []
    },
    {
      "cell_type": "code",
      "metadata": {
        "id": "TcSzDdHT2R0R",
        "colab_type": "code",
        "colab": {}
      },
      "source": [
        "link = 'https://public.opendatasoft.com/explore/dataset/us-zip-code-latitude-and-longitude/download/?format=json&q=MI&refine.state=MI&timezone=America/New_York'\n",
        "response=requests.get(link)\n",
        "data = response.json()"
      ],
      "execution_count": 0,
      "outputs": []
    },
    {
      "cell_type": "code",
      "metadata": {
        "id": "cl8hSKKb2xVc",
        "colab_type": "code",
        "colab": {}
      },
      "source": [
        "#returns the distance in km between two cities in the dataset using the haversine formula\n",
        "#https://en.wikipedia.org/wiki/Haversine_formula\n",
        "def dist(i,j):\n",
        "  latdiff=np.radians(data[i]['fields']['latitude']-data[j]['fields']['latitude'])\n",
        "  londiff=np.radians(data[i]['fields']['longitude']-data[j]['fields']['longitude'])\n",
        "\n",
        "  a = np.sin(latdiff/2)**2 + np.cos(np.radians(data[i]['fields']['latitude'])\n",
        "                                     ) * np.cos(np.radians(data[j]['fields']['latitude'])) * np.sin(londiff/2)**2\n",
        "  c = 2 * np.arctan2(np.sqrt(a),  np.sqrt(1-a))\n",
        "  return 6371 * c"
      ],
      "execution_count": 0,
      "outputs": []
    },
    {
      "cell_type": "code",
      "metadata": {
        "id": "NOWDJt8q2-Ac",
        "colab_type": "code",
        "colab": {}
      },
      "source": [
        "#example of how to get the distance (only 3rd line is required)\n",
        "print(data[5]['fields']['city'])\n",
        "print(data[800]['fields']['city'])\n",
        "dist(5,800)"
      ],
      "execution_count": 0,
      "outputs": []
    },
    {
      "cell_type": "code",
      "metadata": {
        "id": "0Et-chfN3Lzm",
        "colab_type": "code",
        "colab": {}
      },
      "source": [
        "#save the total number of zipcodes\n",
        "num_zipcodes=len(data)\n",
        "print(num_zipcodes)"
      ],
      "execution_count": 0,
      "outputs": []
    },
    {
      "cell_type": "code",
      "metadata": {
        "id": "yogmXdiLA9WP",
        "colab_type": "code",
        "colab": {}
      },
      "source": [
        "#example to see what is saved in each data entry\n",
        "data[800]"
      ],
      "execution_count": 0,
      "outputs": []
    },
    {
      "cell_type": "code",
      "metadata": {
        "id": "WB4bnsi2EFyN",
        "colab_type": "code",
        "colab": {}
      },
      "source": [
        "#to generate a random list and create a matrix of distances\n",
        "zip_list=np.random.randint(low=0, high=len(data), size=20)\n",
        "\n",
        "d = np.array([[dist(i,j) for j in zip_list] for i in zip_list])\n",
        "\n",
        "#np.set_printoptions(precision=2, linewidth=140)\n",
        "#print(d)"
      ],
      "execution_count": 0,
      "outputs": []
    },
    {
      "cell_type": "code",
      "metadata": {
        "colab_type": "code",
        "id": "vnHe3FUsRDCJ",
        "colab": {}
      },
      "source": [
        "n = len(zip_list)\n",
        "ZipCodes = range(n)\n",
        "\n",
        "TSP = pulp.LpProblem(\"Travelling Salesperson Problem\", pulp.LpMinimize)\n",
        "\n",
        "x = pulp.LpVariable.dicts(\"x\",(ZipCodes,ZipCodes),0,1,pulp.LpInteger)\n",
        "p = pulp.LpVariable.dicts(\"p\",ZipCodes,0,n,pulp.LpInteger)\n",
        "\n",
        "TSP += sum(d[i,j]*x[i][j] for i in ZipCodes for j in ZipCodes)\n",
        "\n",
        "for i in ZipCodes:\n",
        "  TSP += sum(x[i][j] for j in ZipCodes) == 1\n",
        "  TSP += sum(x[j][i] for j in ZipCodes) == 1\n",
        "  TSP += x[i][i] == 0\n",
        "\n",
        "TSP += p[0] == 1\n",
        "for i in range(1,n):\n",
        "  TSP += p[i] >=2\n",
        "\n",
        "for i in range(1,n):\n",
        "  for j in range(1,n):\n",
        "    TSP += p[i]-p[j]+1 <= n*(1-x[i][j])\n",
        "\n",
        "\n",
        "TSP.solve()\n",
        "\n",
        "print(\"Status:\", pulp.LpStatus[TSP.status])\n",
        "\n",
        "print(\"Total distance is\", pulp.value(TSP.objective))\n",
        "\n",
        "for v in TSP.variables():\n",
        "    if v.varValue > 0.1:\n",
        "      print(v.name, \"=\", v.varValue)"
      ],
      "execution_count": 0,
      "outputs": []
    },
    {
      "cell_type": "code",
      "metadata": {
        "id": "E80VE2pQ4nQT",
        "colab_type": "code",
        "colab": {}
      },
      "source": [
        "tour=[]\n",
        "for i in range(1,n+1):\n",
        "  for j in range(n):\n",
        "    if -0.1 < i - p[j].varValue < 0.1:\n",
        "      tour.append(j)\n",
        "tour.append(tour[0])\n",
        "\n",
        "path=np.array([data[zip_list[i]]['fields']['geopoint'] for i in tour])\n",
        "\n",
        "points=np.array([data[i]['fields']['geopoint'] for i in range(len(data))])\n",
        "\n",
        "plt.plot(path[:,1],path[:,0], 'C3', lw=3)\n",
        "plt.scatter(points[:,1],points[:,0])\n",
        "plt.show()"
      ],
      "execution_count": 0,
      "outputs": []
    },
    {
      "cell_type": "code",
      "metadata": {
        "id": "Sr9Mr8fi5UmP",
        "colab_type": "code",
        "colab": {}
      },
      "source": [
        ""
      ],
      "execution_count": 0,
      "outputs": []
    }
  ]
}