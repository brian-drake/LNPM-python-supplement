{
  "nbformat": 4,
  "nbformat_minor": 0,
  "metadata": {
    "kernelspec": {
      "display_name": "Python 3",
      "language": "python",
      "name": "python3"
    },
    "language_info": {
      "codemirror_mode": {
        "name": "ipython",
        "version": 3
      },
      "file_extension": ".py",
      "mimetype": "text/x-python",
      "name": "python",
      "nbconvert_exporter": "python",
      "pygments_lexer": "ipython3",
      "version": "3.7.1"
    },
    "colab": {
      "name": "Section2_3.ipynb",
      "provenance": [],
      "collapsed_sections": []
    }
  },
  "cells": [
    {
      "cell_type": "markdown",
      "metadata": {
        "id": "drIT-VbsdyUa",
        "colab_type": "text"
      },
      "source": [
        "<h1>Section 2.3: Minimization problems</h1>"
      ]
    },
    {
      "cell_type": "markdown",
      "metadata": {
        "id": "Tl75jucJdyUe",
        "colab_type": "text"
      },
      "source": [
        "In this worksheet we solve a juice drink LP and the Foraging Herbavore LP with the simplex method."
      ]
    },
    {
      "cell_type": "code",
      "metadata": {
        "id": "G4M0ST91dyUo",
        "colab_type": "code",
        "colab": {}
      },
      "source": [
        "import numpy as np\n",
        "import pandas as pd\n",
        "\n",
        "def SwapRow(arrayA,rowi,rowj): #interchange rows i and j\n",
        "    arrayB=arrayA.copy()\n",
        "    arrayB[rowi]=arrayA[rowj]\n",
        "    arrayB[rowj]=arrayA[rowi]\n",
        "    return arrayB\n",
        "def AddRow(arrayA,rowi,rowj,s): #add s * row j to row i\n",
        "    arrayB=arrayA.copy()\n",
        "    arrayB=arrayB.astype(float) #to avoid division errors with integer arrays\n",
        "    arrayB[rowi]=arrayA[rowi]+s*arrayA[rowj]\n",
        "    return arrayB\n",
        "def MultiplyRow(arrayA,rowi,s): #multiply row i by s\n",
        "    arrayB=arrayA.copy()\n",
        "    arrayB=arrayB.astype(float) #to avoid division errors with integer arrays\n",
        "    arrayB[rowi]=s*arrayA[rowi]\n",
        "    return arrayB\n",
        "def Pivot(arrayA,rowi,colj): #pivot matrix at row i and column j\n",
        "    arrayB=arrayA.copy()\n",
        "    arrayB=MultiplyRow(arrayA,rowi,1/arrayA[rowi,colj])\n",
        "    for x in range(0,rowi):\n",
        "        arrayB=AddRow(arrayB,x,rowi,-arrayB[x,colj])\n",
        "    for x in range(rowi+1,arrayB.shape[0]):\n",
        "        arrayB=AddRow(arrayB,x,rowi,-arrayB[x,colj])\n",
        "    return arrayB"
      ],
      "execution_count": 0,
      "outputs": []
    },
    {
      "cell_type": "markdown",
      "metadata": {
        "id": "b-19wm3edyUx",
        "colab_type": "text"
      },
      "source": [
        "The next code block has the data for the LPs.  The foraging herbavore data is commented out.  If you edit this for different problems, you need to put all the constraints which will have slack variables first, then the ones that will have excess."
      ]
    },
    {
      "cell_type": "code",
      "metadata": {
        "id": "zVYiDTpKdyU0",
        "colab_type": "code",
        "colab": {}
      },
      "source": [
        "c = np.array([2,10])\n",
        "#c = np.array([45.55, 21.87])\n",
        "#create a one-dimensional array of objective function coefficients\n",
        "\n",
        "A = np.array([[0.5,0.25],\n",
        "             [1,3],\n",
        "             [1,1]])\n",
        "#A = np.array([[1.64,2.67],\n",
        "#             [2.11,2.3]])\n",
        "#create a two-dimensional array of constraint coefficients\n",
        "\n",
        "b = np.array([4,20,12])\n",
        "#b = np.array([31.2,13.9])\n",
        "#create a one-dimensional array of constraint bounds\n",
        "\n",
        "slack_variables = [1]\n",
        "excess_variables = [2]\n",
        "artificial_variables = [2,3]\n",
        "#slack_variables = [1]\n",
        "#excess_variables = [2]\n",
        "#artificial_variables = [2]\n",
        "#give a list of each type of variable.\n",
        "\n",
        "M = 100\n",
        "#give value of M for big M method"
      ],
      "execution_count": 0,
      "outputs": []
    },
    {
      "cell_type": "code",
      "metadata": {
        "id": "xlqUhV8PdyU4",
        "colab_type": "code",
        "colab": {}
      },
      "source": [
        "n=len(c)\n",
        "m=len(b)\n",
        "#find the number of decision variables and constraints, respectively\n",
        "x=['x_'+str(i+1) for i in range(n)]\n",
        "s=['s_'+str(i) for i in slack_variables]\n",
        "e=['e_'+str(i) for i in excess_variables]\n",
        "a=['a_'+str(i) for i in artificial_variables]\n",
        "Labels=['z']+x+s+e+a+['RHS']\n",
        "#create labels for variables\n",
        "def Tableau(M):\n",
        "    return pd.DataFrame(M,columns=Labels)\n",
        "#procedure to add column labels to an LPMatrix\n",
        "\n",
        "var_block = np.zeros((m,len(s)+len(e)+len(a)))\n",
        "for i in slack_variables:\n",
        "  var_block[i-1,i-1]=1\n",
        "for i in excess_variables:\n",
        "  var_block[i-1,i-1]=-1\n",
        "for i in artificial_variables:\n",
        "  var_block[i-1,i-1+len(e)]=1\n",
        "#create coefficients for slack, excess, artificial variables\n",
        "\n",
        "LPMatrix = np.block([\n",
        "    [1,-c,np.zeros(len(s)+len(e)),np.full(len(a),-M),0],\n",
        "    [np.zeros((m,1)),A,var_block,b[:,np.newaxis]]\n",
        "])\n",
        "#create array corresponding to the initial tableau\n",
        "def RowRatios(M,c):\n",
        "    for i in range(m):\n",
        "        if (M[i+1,c]>0.001):\n",
        "            print(\"Row\", i+1, \"Ratio =\", M[i+1,-1]/M[i+1,c])\n",
        "        else:\n",
        "            print(\"Row\", i+1, \"Ratio Undefined\")\n",
        "#row ratio test for LPMatrix M and column c\n",
        "def Iterate(M,r,c):\n",
        "    M2=MultiplyRow(M,r,1/M[r,c])\n",
        "    M2=Pivot(M2,r,c)\n",
        "    return M2"
      ],
      "execution_count": 0,
      "outputs": []
    },
    {
      "cell_type": "code",
      "metadata": {
        "id": "2sA-HnpUdyU9",
        "colab_type": "code",
        "outputId": "1cbc9f88-4b74-4cb5-b2db-3d1eeb191233",
        "colab": {
          "base_uri": "https://localhost:8080/",
          "height": 171
        }
      },
      "source": [
        "M1=LPMatrix\n",
        "Tableau(M1)"
      ],
      "execution_count": 0,
      "outputs": [
        {
          "output_type": "execute_result",
          "data": {
            "text/html": [
              "<div>\n",
              "<style scoped>\n",
              "    .dataframe tbody tr th:only-of-type {\n",
              "        vertical-align: middle;\n",
              "    }\n",
              "\n",
              "    .dataframe tbody tr th {\n",
              "        vertical-align: top;\n",
              "    }\n",
              "\n",
              "    .dataframe thead th {\n",
              "        text-align: right;\n",
              "    }\n",
              "</style>\n",
              "<table border=\"1\" class=\"dataframe\">\n",
              "  <thead>\n",
              "    <tr style=\"text-align: right;\">\n",
              "      <th></th>\n",
              "      <th>z</th>\n",
              "      <th>x_1</th>\n",
              "      <th>x_2</th>\n",
              "      <th>s_1</th>\n",
              "      <th>e_2</th>\n",
              "      <th>a_2</th>\n",
              "      <th>a_3</th>\n",
              "      <th>RHS</th>\n",
              "    </tr>\n",
              "  </thead>\n",
              "  <tbody>\n",
              "    <tr>\n",
              "      <th>0</th>\n",
              "      <td>1.0</td>\n",
              "      <td>-2.0</td>\n",
              "      <td>-10.00</td>\n",
              "      <td>0.0</td>\n",
              "      <td>0.0</td>\n",
              "      <td>-100.0</td>\n",
              "      <td>-100.0</td>\n",
              "      <td>0.0</td>\n",
              "    </tr>\n",
              "    <tr>\n",
              "      <th>1</th>\n",
              "      <td>0.0</td>\n",
              "      <td>0.5</td>\n",
              "      <td>0.25</td>\n",
              "      <td>1.0</td>\n",
              "      <td>0.0</td>\n",
              "      <td>0.0</td>\n",
              "      <td>0.0</td>\n",
              "      <td>4.0</td>\n",
              "    </tr>\n",
              "    <tr>\n",
              "      <th>2</th>\n",
              "      <td>0.0</td>\n",
              "      <td>1.0</td>\n",
              "      <td>3.00</td>\n",
              "      <td>0.0</td>\n",
              "      <td>-1.0</td>\n",
              "      <td>1.0</td>\n",
              "      <td>0.0</td>\n",
              "      <td>20.0</td>\n",
              "    </tr>\n",
              "    <tr>\n",
              "      <th>3</th>\n",
              "      <td>0.0</td>\n",
              "      <td>1.0</td>\n",
              "      <td>1.00</td>\n",
              "      <td>0.0</td>\n",
              "      <td>0.0</td>\n",
              "      <td>0.0</td>\n",
              "      <td>1.0</td>\n",
              "      <td>12.0</td>\n",
              "    </tr>\n",
              "  </tbody>\n",
              "</table>\n",
              "</div>"
            ],
            "text/plain": [
              "     z  x_1    x_2  s_1  e_2    a_2    a_3   RHS\n",
              "0  1.0 -2.0 -10.00  0.0  0.0 -100.0 -100.0   0.0\n",
              "1  0.0  0.5   0.25  1.0  0.0    0.0    0.0   4.0\n",
              "2  0.0  1.0   3.00  0.0 -1.0    1.0    0.0  20.0\n",
              "3  0.0  1.0   1.00  0.0  0.0    0.0    1.0  12.0"
            ]
          },
          "metadata": {
            "tags": []
          },
          "execution_count": 9
        }
      ]
    },
    {
      "cell_type": "markdown",
      "metadata": {
        "id": "k9aF1bWzd0lI",
        "colab_type": "text"
      },
      "source": [
        "First we pivot so that our artificial variables are basic in our initial tableau.  Recall that we use <code>Iterate(tableau,row,column).</code>"
      ]
    },
    {
      "cell_type": "code",
      "metadata": {
        "id": "aLeGzSjhOF0X",
        "colab_type": "code",
        "colab": {}
      },
      "source": [
        "M1=Iterate(M1,2,5)\n",
        "M1=Iterate(M1,3,6)\n",
        "Tableau(M1)"
      ],
      "execution_count": 0,
      "outputs": []
    },
    {
      "cell_type": "markdown",
      "metadata": {
        "id": "p_5l3chkPKk9",
        "colab_type": "text"
      },
      "source": [
        "Now we carry out the simplex algorithm for minimization."
      ]
    },
    {
      "cell_type": "code",
      "metadata": {
        "id": "9TDEgzyXdyVC",
        "colab_type": "code",
        "colab": {}
      },
      "source": [
        "RowRatios(M1,2)"
      ],
      "execution_count": 0,
      "outputs": []
    },
    {
      "cell_type": "code",
      "metadata": {
        "id": "H4q312BqdyVF",
        "colab_type": "code",
        "colab": {}
      },
      "source": [
        "M2=Iterate(M1,2,2)\n",
        "Tableau(M2)"
      ],
      "execution_count": 0,
      "outputs": []
    },
    {
      "cell_type": "code",
      "metadata": {
        "id": "Oy7LS9i4dyVJ",
        "colab_type": "code",
        "colab": {}
      },
      "source": [
        "RowRatios(M2,1)"
      ],
      "execution_count": 0,
      "outputs": []
    },
    {
      "cell_type": "code",
      "metadata": {
        "id": "ePeH1byEdyVP",
        "colab_type": "code",
        "colab": {}
      },
      "source": [
        "M3=Iterate(M2,1,1)\n",
        "Tableau(M3)"
      ],
      "execution_count": 0,
      "outputs": []
    },
    {
      "cell_type": "code",
      "metadata": {
        "id": "w4DMvGxHdyVU",
        "colab_type": "code",
        "colab": {}
      },
      "source": [
        "RowRatios(M3,4)"
      ],
      "execution_count": 0,
      "outputs": []
    },
    {
      "cell_type": "code",
      "metadata": {
        "id": "7Ahp7C48dyVW",
        "colab_type": "code",
        "colab": {}
      },
      "source": [
        "M4=Iterate(M3,3,4)\n",
        "Tableau(M4)"
      ],
      "execution_count": 0,
      "outputs": []
    },
    {
      "cell_type": "code",
      "metadata": {
        "id": "n4995jT6C-EL",
        "colab_type": "code",
        "colab": {}
      },
      "source": [
        ""
      ],
      "execution_count": 0,
      "outputs": []
    }
  ]
}