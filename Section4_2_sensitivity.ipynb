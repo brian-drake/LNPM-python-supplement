{
  "nbformat": 4,
  "nbformat_minor": 0,
  "metadata": {
    "colab": {
      "name": "Section4_2_sensitivity.ipynb",
      "provenance": []
    },
    "kernelspec": {
      "name": "python3",
      "display_name": "Python 3"
    }
  },
  "cells": [
    {
      "cell_type": "markdown",
      "metadata": {
        "id": "nfEK0qpIdkEx",
        "colab_type": "text"
      },
      "source": [
        "#Section 4.2: Sensitivity Analysis\n",
        "\n",
        "This notebook shows how we can analyze sensitivity either through a brute force approach or by generating a sensitivity analysis report."
      ]
    },
    {
      "cell_type": "code",
      "metadata": {
        "id": "C3m3rEkBbERq",
        "colab_type": "code",
        "colab": {}
      },
      "source": [
        "!pip install pulp\n",
        "import pulp\n",
        "import numpy as np\n",
        "import pandas as pd\n",
        "import matplotlib.pyplot as plt"
      ],
      "execution_count": 0,
      "outputs": []
    },
    {
      "cell_type": "markdown",
      "metadata": {
        "id": "6YvadqG9ceyI",
        "colab_type": "text"
      },
      "source": [
        "## Brute Force Sensitivity Tool\n",
        "\n",
        "By changing the location of <code>a</code> in the LP, we can analyze sensitivity to different changes in the Lego LP.  We change the bounds or stepsize in <code>np.arange(-5,5,0.5)</code> to test different <code>a</code> values."
      ]
    },
    {
      "cell_type": "code",
      "metadata": {
        "id": "W0AkitcUdlF2",
        "colab_type": "code",
        "colab": {}
      },
      "source": [
        "def run_pulp_model(a):\n",
        "  model = pulp.LpProblem(\"Lego_Construction_Problem\", pulp.LpMaximize)\n",
        "  x1 = pulp.LpVariable(\"x1\", 0, None, pulp.LpContinuous)\n",
        "  x2 = pulp.LpVariable(\"x2\", 0, None, pulp.LpContinuous)\n",
        "  x3 = pulp.LpVariable(\"x3\", 0, None, pulp.LpContinuous)\n",
        "\n",
        "\n",
        "  model += (10+a)*x1+16*x2+8*x3, \"Revenue\"\n",
        "\n",
        "  model += 2*x1+2*x2 <= 10, \"Limit on 2x2\"\n",
        "  model += x1+2*x2+x3 <= 8, \"Limit on 2x4\"\n",
        "  model += x3 <= 8, \"Limit on 1x2\"\n",
        "\n",
        "  model.solve()\n",
        "  o = {'delta':a, 'x1':x1.varValue, 'x2':x2.varValue, 'x3':x3.varValue, 'Obj':pulp.value(model.objective)}\n",
        "  return(o)"
      ],
      "execution_count": 0,
      "outputs": []
    },
    {
      "cell_type": "code",
      "metadata": {
        "id": "znqLxEM9fwCJ",
        "colab_type": "code",
        "colab": {}
      },
      "source": [
        "output=[]\n",
        "for i in np.arange(-5,5,0.5):\n",
        "  output.append(run_pulp_model(i))\n",
        "df = pd.DataFrame(output)\n",
        "\n",
        "plt.scatter(df['delta'],df['x1'])\n",
        "plt.scatter(df['delta'],df['x2'])\n",
        "plt.scatter(df['delta'],df['x3'])\n",
        "plt.grid()\n",
        "plt.show()"
      ],
      "execution_count": 0,
      "outputs": []
    },
    {
      "cell_type": "code",
      "metadata": {
        "id": "tWHi_TxZf0gm",
        "colab_type": "code",
        "colab": {}
      },
      "source": [
        "df[5:10]"
      ],
      "execution_count": 0,
      "outputs": []
    },
    {
      "cell_type": "markdown",
      "metadata": {
        "id": "3OaF7SKNcLkI",
        "colab_type": "text"
      },
      "source": [
        "## Sensitivity Analysis Report\n",
        "\n",
        "The following code installs the GLPK solver (when running this notebook in Colab) and generates its sensitivity analysis report."
      ]
    },
    {
      "cell_type": "code",
      "metadata": {
        "id": "wfZNtJsVFOXv",
        "colab_type": "code",
        "colab": {}
      },
      "source": [
        "!pip install pulp\n",
        "!sudo apt-get install glpk-utils\n",
        "\n",
        "import pulp\n",
        "\n",
        "model = pulp.LpProblem(\"Lego_Construction_Problem\", pulp.LpMaximize)\n",
        "x1 = pulp.LpVariable(\"x1\", 0, None, pulp.LpContinuous)\n",
        "x2 = pulp.LpVariable(\"x2\", 0, None, pulp.LpContinuous)\n",
        "x3 = pulp.LpVariable(\"x3\", 0, None, pulp.LpContinuous)\n",
        "\n",
        "\n",
        "model += (10+a)*x1+16*x2+8*x3, \"Revenue\"\n",
        "\n",
        "model += 2*x1+2*x2 <= 10, \"Limit on 2x2\"\n",
        "model += x1+2*x2+x3 <= 8, \"Limit on 2x4\"\n",
        "model += x3 <= 8, \"Limit on 1x2\"\n",
        "\n",
        "model.solve(pulp.GLPK_CMD(options=['--ranges', 'sensit.txt']))\n",
        "\n",
        "from google.colab import files\n",
        "\n",
        "files.download('sensit.txt')"
      ],
      "execution_count": 0,
      "outputs": []
    },
    {
      "cell_type": "code",
      "metadata": {
        "id": "69mDpxmMN6Iq",
        "colab_type": "code",
        "colab": {}
      },
      "source": [
        ""
      ],
      "execution_count": 0,
      "outputs": []
    }
  ]
}