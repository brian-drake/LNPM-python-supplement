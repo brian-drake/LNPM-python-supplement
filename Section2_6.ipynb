{
  "nbformat": 4,
  "nbformat_minor": 0,
  "metadata": {
    "kernelspec": {
      "display_name": "Python 3",
      "language": "python",
      "name": "python3"
    },
    "language_info": {
      "codemirror_mode": {
        "name": "ipython",
        "version": 3
      },
      "file_extension": ".py",
      "mimetype": "text/x-python",
      "name": "python",
      "nbconvert_exporter": "python",
      "pygments_lexer": "ipython3",
      "version": "3.6.8"
    },
    "colab": {
      "name": "Section2_6.ipynb",
      "provenance": [],
      "collapsed_sections": []
    }
  },
  "cells": [
    {
      "cell_type": "code",
      "metadata": {
        "id": "RL19K9ab1cVB",
        "colab_type": "code",
        "colab": {}
      },
      "source": [
        "import numpy as np"
      ],
      "execution_count": 0,
      "outputs": []
    },
    {
      "cell_type": "code",
      "metadata": {
        "id": "JOaUntv61cVH",
        "colab_type": "code",
        "colab": {}
      },
      "source": [
        "c=np.array([4,3,0,0,0])        #objective coefficients\n",
        "A=np.array([[1,0,1,0,0],\n",
        "           [2,2,0,1,0],\n",
        "           [3,2,0,0,1]])       #constraint coefficients\n",
        "b=np.array([8,28,32])          #constraint bounds\n",
        "N=8                            #number of iterations\n",
        "lamda=.75                      #stepsize parameter\n",
        "x={0:np.array([3,4,15,14,15])} #dictionary with initial value"
      ],
      "execution_count": 0,
      "outputs": []
    },
    {
      "cell_type": "code",
      "metadata": {
        "id": "hNMphLG91cVL",
        "colab_type": "code",
        "colab": {}
      },
      "source": [
        "numvars=len(c)\n",
        "\n",
        "for i in range(N):\n",
        "    d=np.diagflat(x[i])\n",
        "    A1=A@d\n",
        "    c1=c@d\n",
        "    P=np.identity(numvars)-A1.T@np.linalg.inv(A1@A1.T)@A1\n",
        "    cp=P@c1.T\n",
        "    alpha=1/abs(min(cp))\n",
        "    x[i+1]=d@(np.ones(numvars)+lamda*alpha*cp)"
      ],
      "execution_count": 0,
      "outputs": []
    },
    {
      "cell_type": "code",
      "metadata": {
        "id": "_Q3nKsFL1cVT",
        "colab_type": "code",
        "colab": {}
      },
      "source": [
        "print(\"{:^5}{:^20}\\t{:^20}\\t{:^20}\".format(\"n\",\"x1\",\"x2\",\"z\"))\n",
        "for i in x:\n",
        "    print(\"{:^5}{:^20}\\t{:^20}\\t{:^20}\".format(i,x[i][0],x[i][1],c.T@x[i]))"
      ],
      "execution_count": 0,
      "outputs": []
    },
    {
      "cell_type": "code",
      "metadata": {
        "id": "fdr5fM6X1cVa",
        "colab_type": "code",
        "colab": {}
      },
      "source": [
        "import matplotlib.pyplot as plt\n",
        "\n",
        "delta = 0.020\n",
        "x1range = np.arange(0, 15, delta)\n",
        "x2range = np.arange(0, 20, delta)\n",
        "x1, x2 = np.meshgrid(x1range,x2range)\n",
        "plt.grid()\n",
        "\n",
        "for i in range(len(b)):\n",
        "  plt.contour(x1, x2, A[i][0]*x1+A[i][1]*x2, [b[i]])\n",
        "\n",
        "a = [pt[0] for pt in x.values()]\n",
        "b = [pt[1] for pt in x.values()]\n",
        "plt.scatter(a,b)\n",
        "plt.plot(a,b)\n",
        "\n",
        "#plt.contour(x1, x2, c[0]*x1+c[1]*x2, np.arange(0,50,5))\n",
        "plt.show()"
      ],
      "execution_count": 0,
      "outputs": []
    },
    {
      "cell_type": "code",
      "metadata": {
        "id": "gN1PoZZ4I_V4",
        "colab_type": "code",
        "colab": {}
      },
      "source": [
        ""
      ],
      "execution_count": 0,
      "outputs": []
    }
  ]
}