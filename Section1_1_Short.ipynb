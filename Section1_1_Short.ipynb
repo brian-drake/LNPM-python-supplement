{
  "nbformat": 4,
  "nbformat_minor": 0,
  "metadata": {
    "kernelspec": {
      "display_name": "Python 3",
      "language": "python",
      "name": "python3"
    },
    "language_info": {
      "codemirror_mode": {
        "name": "ipython",
        "version": 3
      },
      "file_extension": ".py",
      "mimetype": "text/x-python",
      "name": "python",
      "nbconvert_exporter": "python",
      "pygments_lexer": "ipython3",
      "version": "3.7.1"
    },
    "colab": {
      "name": "Section1_1_Short.ipynb",
      "provenance": [],
      "collapsed_sections": []
    }
  },
  "cells": [
    {
      "cell_type": "code",
      "metadata": {
        "id": "d9c--pmmxM2D",
        "colab_type": "code",
        "colab": {}
      },
      "source": [
        "!pip install pulp\n",
        "import pulp\n",
        "\n",
        "FuelPro = pulp.LpProblem(\"The FuelPro Blending Problem\", pulp.LpMaximize)\n",
        "x1 = pulp.LpVariable(\"Premium Grade\", 0, None, pulp.LpContinuous)\n",
        "x2 = pulp.LpVariable(\"Regular Grade\", 0, None, pulp.LpContinuous)\n",
        "\n",
        "FuelPro += 4*x1+3*x2, \"Profit in a given hour\"\n",
        "\n",
        "FuelPro += 2*x1+2*x2<=28, \"Limit of stock A\"\n",
        "FuelPro += 3*x1+2*x2<=32, \"Limit of stock B\"\n",
        "FuelPro += x1<=8, \"Limit on sale of premium\"\n",
        "\n",
        "FuelPro.solve()\n",
        "\n",
        "\n",
        "print(\"Status:\", pulp.LpStatus[FuelPro.status])\n",
        "print(\"Objective function value is\", pulp.value(FuelPro.objective))\n",
        "\n",
        "for v in FuelPro.variables():\n",
        "    print(v.name, \"=\", v.varValue)"
      ],
      "execution_count": 0,
      "outputs": []
    }
  ]
}