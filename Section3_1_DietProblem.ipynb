{
  "nbformat": 4,
  "nbformat_minor": 0,
  "metadata": {
    "kernelspec": {
      "display_name": "Python 3",
      "language": "python",
      "name": "python3"
    },
    "language_info": {
      "codemirror_mode": {
        "name": "ipython",
        "version": 3
      },
      "file_extension": ".py",
      "mimetype": "text/x-python",
      "name": "python",
      "nbconvert_exporter": "python",
      "pygments_lexer": "ipython3",
      "version": "3.7.1"
    },
    "colab": {
      "name": "Section3_1_DietProblem_complete.ipynb",
      "provenance": []
    }
  },
  "cells": [
    {
      "cell_type": "markdown",
      "metadata": {
        "id": "o4wLPY8xsRJX",
        "colab_type": "text"
      },
      "source": [
        "<h1>Section 3.1.2 The Diet Problem</h1>\n",
        "\n",
        "We use <code>pulp</code> to solve the diet problem from the text.  We first load the necessary packages and input the data as lists."
      ]
    },
    {
      "cell_type": "code",
      "metadata": {
        "id": "qloESa_usRJZ",
        "colab_type": "code",
        "colab": {}
      },
      "source": [
        "!pip install pulp\n",
        "\n",
        "import numpy as np\n",
        "import pulp"
      ],
      "execution_count": 0,
      "outputs": []
    },
    {
      "cell_type": "code",
      "metadata": {
        "id": "huCqNSYBsRJd",
        "colab_type": "code",
        "colab": {}
      },
      "source": [
        "TurkeyBreast=[280, 4.5, 20, 46, 5, 18, 8, 35, 6, 25]\n",
        "Club=[320,6,35,47,5,24,8,35,8,30]\n",
        "VeggieSub=[230,3,0,44,5,9,8,35,6,25]\n",
        "BreakfastSandwich=[470,19,200,53,5,28,10,15,25,25]"
      ],
      "execution_count": 0,
      "outputs": []
    },
    {
      "cell_type": "code",
      "metadata": {
        "id": "xfcuRUpAsRJk",
        "colab_type": "code",
        "colab": {}
      },
      "source": [
        "MinimumAmount=[2000,0,0,50,25,50,40,40,40,40]\n",
        "MaximumAmount=[3000,65,300,300,50,200,200,200,200,200]"
      ],
      "execution_count": 0,
      "outputs": []
    },
    {
      "cell_type": "code",
      "metadata": {
        "id": "Owmj-Wd6sRJn",
        "colab_type": "code",
        "colab": {}
      },
      "source": [
        "Prices=[6,5,3.5,5]"
      ],
      "execution_count": 0,
      "outputs": []
    },
    {
      "cell_type": "markdown",
      "metadata": {
        "id": "IEEc_g4lsRJs",
        "colab_type": "text"
      },
      "source": [
        "Now we create the LP with pulp, starting a minimization problem and creating our decision variables."
      ]
    },
    {
      "cell_type": "code",
      "metadata": {
        "id": "kRke6xVDsRJt",
        "colab_type": "code",
        "colab": {}
      },
      "source": [
        "DietProblem = pulp.LpProblem(\"The Diet Problem\", pulp.LpMinimize)"
      ],
      "execution_count": 0,
      "outputs": []
    },
    {
      "cell_type": "code",
      "metadata": {
        "id": "zlsCjgSlsRJx",
        "colab_type": "code",
        "colab": {}
      },
      "source": [
        "Sandwiches = range(4)\n",
        "x = pulp.LpVariable.dicts(\"x\", Sandwiches, 0, None, pulp.LpContinuous)"
      ],
      "execution_count": 0,
      "outputs": []
    },
    {
      "cell_type": "markdown",
      "metadata": {
        "id": "sgdjbH73sRJ2",
        "colab_type": "text"
      },
      "source": [
        "Next we include the objective function."
      ]
    },
    {
      "cell_type": "code",
      "metadata": {
        "id": "vp2L54pgsRJ4",
        "colab_type": "code",
        "colab": {}
      },
      "source": [
        "DietProblem += sum(Prices[i]*x[i] for i in Sandwiches)"
      ],
      "execution_count": 0,
      "outputs": []
    },
    {
      "cell_type": "markdown",
      "metadata": {
        "id": "fhb8NFUmsRJ7",
        "colab_type": "text"
      },
      "source": [
        "Now we need to add constraints for the minimum and maximum amounts for different nutrients.  We first organize our data into an array so that we can pull each nutrient one at a time,  each of which is a column with this setup."
      ]
    },
    {
      "cell_type": "code",
      "metadata": {
        "id": "oRPPDkwCsRJ8",
        "colab_type": "code",
        "colab": {}
      },
      "source": [
        "A=np.array([TurkeyBreast,Club,VeggieSub,BreakfastSandwich])\n",
        "print(A)"
      ],
      "execution_count": 0,
      "outputs": []
    },
    {
      "cell_type": "markdown",
      "metadata": {
        "id": "006SOSwbsRKI",
        "colab_type": "text"
      },
      "source": [
        "Now we are ready to include our constraints for minimum and maximum amounts."
      ]
    },
    {
      "cell_type": "code",
      "metadata": {
        "id": "u86y8JuxsRKL",
        "colab_type": "code",
        "colab": {}
      },
      "source": [
        "for j in range(10):\n",
        "    DietProblem += sum(A[i,j]*x[i] for i in Sandwiches) >= MinimumAmount[j]\n",
        "    DietProblem += sum(A[i,j]*x[i] for i in Sandwiches) <= MaximumAmount[j]"
      ],
      "execution_count": 0,
      "outputs": []
    },
    {
      "cell_type": "code",
      "metadata": {
        "id": "g7O7oK3FsRKX",
        "colab_type": "code",
        "colab": {}
      },
      "source": [
        "DietProblem"
      ],
      "execution_count": 0,
      "outputs": []
    },
    {
      "cell_type": "markdown",
      "metadata": {
        "id": "WL76v-tvsRKi",
        "colab_type": "text"
      },
      "source": [
        "Now we are ready to solve our LP."
      ]
    },
    {
      "cell_type": "code",
      "metadata": {
        "id": "dEgsbYzjsRKk",
        "colab_type": "code",
        "colab": {}
      },
      "source": [
        "DietProblem.solve()\n",
        "print(\"Status:\", pulp.LpStatus[DietProblem.status])"
      ],
      "execution_count": 0,
      "outputs": []
    },
    {
      "cell_type": "code",
      "metadata": {
        "id": "84fS5HfFsRKo",
        "colab_type": "code",
        "colab": {}
      },
      "source": [
        "print(\"Total cost is\", pulp.value(DietProblem.objective))"
      ],
      "execution_count": 0,
      "outputs": []
    },
    {
      "cell_type": "code",
      "metadata": {
        "id": "d2AG9373sRKs",
        "colab_type": "code",
        "colab": {}
      },
      "source": [
        "for v in DietProblem.variables():\n",
        "    print(v.name, \"=\", v.varValue)"
      ],
      "execution_count": 0,
      "outputs": []
    }
  ]
}