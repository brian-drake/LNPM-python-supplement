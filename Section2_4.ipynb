{
  "nbformat": 4,
  "nbformat_minor": 0,
  "metadata": {
    "kernelspec": {
      "display_name": "Python 3",
      "language": "python",
      "name": "python3"
    },
    "language_info": {
      "codemirror_mode": {
        "name": "ipython",
        "version": 3
      },
      "file_extension": ".py",
      "mimetype": "text/x-python",
      "name": "python",
      "nbconvert_exporter": "python",
      "pygments_lexer": "ipython3",
      "version": "3.6.8"
    },
    "colab": {
      "name": "Section2_4.ipynb",
      "provenance": [],
      "collapsed_sections": []
    }
  },
  "cells": [
    {
      "cell_type": "markdown",
      "metadata": {
        "id": "_WD34Z5S6yQ-",
        "colab_type": "text"
      },
      "source": [
        "##Section 2.4. A Partitioned Matrix View of the Simplex Method\n"
      ]
    },
    {
      "cell_type": "markdown",
      "metadata": {
        "id": "4WEi1d3E7Wfs",
        "colab_type": "text"
      },
      "source": [
        "In this section we see the basic command for creating partitioned matrices (or block matrices) in Numpy.  We then find the matrices used in the text to give a partitioned matrix version of the simplex algorithm."
      ]
    },
    {
      "cell_type": "code",
      "metadata": {
        "id": "cIsU_7I935RU",
        "colab_type": "code",
        "colab": {}
      },
      "source": [
        "import numpy as np\n",
        "import pandas as pd"
      ],
      "execution_count": 0,
      "outputs": []
    },
    {
      "cell_type": "markdown",
      "metadata": {
        "id": "Nyitldpv66JB",
        "colab_type": "text"
      },
      "source": [
        "We create partitioned matrices using <code>np.block</code> in Numpy.  To create the matrices used in the introduction in the text, we use the following."
      ]
    },
    {
      "cell_type": "code",
      "metadata": {
        "id": "DjIYeRD-8KKL",
        "colab_type": "code",
        "outputId": "6cbb119c-a7d2-4c24-f1b2-a5cf82f6c9a1",
        "colab": {
          "base_uri": "https://localhost:8080/",
          "height": 87
        }
      },
      "source": [
        "A=np.array([[1,3],\n",
        "            [2,0]])\n",
        "B=np.array([[2,1],\n",
        "            [-1,1]])\n",
        "C=np.array([[-5,0],\n",
        "            [2,6]])\n",
        "I2=np.eye(2)\n",
        "M=np.block([[A,B],\n",
        "            [C,I2]])\n",
        "print(M)"
      ],
      "execution_count": 0,
      "outputs": [
        {
          "output_type": "stream",
          "text": [
            "[[ 1.  3.  2.  1.]\n",
            " [ 2.  0. -1.  1.]\n",
            " [-5.  0.  1.  0.]\n",
            " [ 2.  6.  0.  1.]]\n"
          ],
          "name": "stdout"
        }
      ]
    },
    {
      "cell_type": "markdown",
      "metadata": {
        "id": "d1d2VNJU-TvC",
        "colab_type": "text"
      },
      "source": [
        "In Numpy's blocks, one dimensional arrays work as rows.  We sometimes want to convert these to columns, which can be done with the following technique."
      ]
    },
    {
      "cell_type": "code",
      "metadata": {
        "id": "93SEdPwN-ozN",
        "colab_type": "code",
        "colab": {}
      },
      "source": [
        "np.zeros(3)[:,np.newaxis]"
      ],
      "execution_count": 0,
      "outputs": []
    },
    {
      "cell_type": "markdown",
      "metadata": {
        "id": "Rr8xL9um9A35",
        "colab_type": "text"
      },
      "source": [
        "---\n",
        "Now we follow the text in using partitioned matrices for the simplex algorithm.  The next codeblock needs to be executed to load our row reducing fuctions.  The following codeblock contains the data for the FuelPro LP and can be edited for different problems.  The third codeblock needs to be executed to set up the tableaux."
      ]
    },
    {
      "cell_type": "code",
      "metadata": {
        "id": "YJadAq-T35Rk",
        "colab_type": "code",
        "colab": {}
      },
      "source": [
        "def SwapRow(arrayA,rowi,rowj): #interchange rows i and j\n",
        "    arrayB=arrayA.copy()\n",
        "    arrayB[rowi]=arrayA[rowj]\n",
        "    arrayB[rowj]=arrayA[rowi]\n",
        "    return arrayB\n",
        "def AddRow(arrayA,rowi,rowj,s): #add s * row j to row i\n",
        "    arrayB=arrayA.copy()\n",
        "    arrayB=arrayB.astype(float) #to avoid division errors with integer arrays\n",
        "    arrayB[rowi]=arrayA[rowi]+s*arrayA[rowj]\n",
        "    return arrayB\n",
        "def MultiplyRow(arrayA,rowi,s): #multiply row i by s\n",
        "    arrayB=arrayA.copy()\n",
        "    arrayB=arrayB.astype(float) #to avoid division errors with integer arrays\n",
        "    arrayB[rowi]=s*arrayA[rowi]\n",
        "    return arrayB\n",
        "def Pivot(arrayA,rowi,colj): #pivot matrix at row i and column j\n",
        "    arrayB=arrayA.copy()\n",
        "    arrayB=MultiplyRow(arrayA,rowi,1/arrayA[rowi,colj])\n",
        "    for x in range(0,rowi):\n",
        "        arrayB=AddRow(arrayB,x,rowi,-arrayB[x,colj])\n",
        "    for x in range(rowi+1,arrayB.shape[0]):\n",
        "        arrayB=AddRow(arrayB,x,rowi,-arrayB[x,colj])\n",
        "    return arrayB"
      ],
      "execution_count": 0,
      "outputs": []
    },
    {
      "cell_type": "code",
      "metadata": {
        "id": "qeFYRool4fnj",
        "colab_type": "code",
        "colab": {}
      },
      "source": [
        "c = np.array([4,3])\n",
        "#create a one-dimensional array of objective function coefficients\n",
        "A = np.array([[1,0],\n",
        "             [2,2],\n",
        "             [3,2]])\n",
        "#create a two-dimensional array of constraint coefficients\n",
        "b = np.array([8,28,32])\n",
        "#create a one-dimensional array of constraint bounds"
      ],
      "execution_count": 0,
      "outputs": []
    },
    {
      "cell_type": "code",
      "metadata": {
        "id": "lw81sINo5HLB",
        "colab_type": "code",
        "colab": {}
      },
      "source": [
        "n=len(c)\n",
        "m=len(b)\n",
        "#find the number of decision variables and constraints, respectively\n",
        "x=['x_'+str(i+1) for i in range(n)]\n",
        "s=['s_'+str(i+1) for i in range(m)]\n",
        "Labels=['z']+x+s+['RHS']\n",
        "#create labels for decision and slack variables\n",
        "def Tableau(M):\n",
        "    return pd.DataFrame(M,columns=Labels)\n",
        "#procedure to add column labels to an LPMatrix\n",
        "LPMatrix = np.block([\n",
        "    [1,-c,np.zeros(m+1)],\n",
        "    [np.zeros((m,1)),A,np.identity(m),b[:,np.newaxis]]\n",
        "])\n",
        "#create array corresponding to the initial tableau\n",
        "def RowRatios(M,c):\n",
        "    for i in range(m):\n",
        "        if (M[i+1,c]>0.001):\n",
        "            print(\"Row\", i+1, \"Ratio =\", M[i+1,-1]/M[i+1,c])\n",
        "        else:\n",
        "            print(\"Row\", i+1, \"Ratio Undefined\")\n",
        "#row ratio test for LPMatrix M and column c\n",
        "def Iterate(M,r,c):\n",
        "    M2=MultiplyRow(M,r,1/M[r,c])\n",
        "    M2=Pivot(M2,r,c)\n",
        "    return M2"
      ],
      "execution_count": 0,
      "outputs": []
    },
    {
      "cell_type": "code",
      "metadata": {
        "id": "286mmOak5oKA",
        "colab_type": "code",
        "outputId": "18a3ca26-d579-42e9-a789-f25b9de5f71c",
        "colab": {
          "base_uri": "https://localhost:8080/",
          "height": 141
        }
      },
      "source": [
        "TableauMatrix1=LPMatrix\n",
        "Tableau(TableauMatrix1)"
      ],
      "execution_count": 0,
      "outputs": [
        {
          "output_type": "execute_result",
          "data": {
            "text/html": [
              "<div>\n",
              "<style scoped>\n",
              "    .dataframe tbody tr th:only-of-type {\n",
              "        vertical-align: middle;\n",
              "    }\n",
              "\n",
              "    .dataframe tbody tr th {\n",
              "        vertical-align: top;\n",
              "    }\n",
              "\n",
              "    .dataframe thead th {\n",
              "        text-align: right;\n",
              "    }\n",
              "</style>\n",
              "<table border=\"1\" class=\"dataframe\">\n",
              "  <thead>\n",
              "    <tr style=\"text-align: right;\">\n",
              "      <th></th>\n",
              "      <th>z</th>\n",
              "      <th>x_1</th>\n",
              "      <th>x_2</th>\n",
              "      <th>s_1</th>\n",
              "      <th>s_2</th>\n",
              "      <th>RHS</th>\n",
              "    </tr>\n",
              "  </thead>\n",
              "  <tbody>\n",
              "    <tr>\n",
              "      <th>0</th>\n",
              "      <td>1.0</td>\n",
              "      <td>-10.0</td>\n",
              "      <td>-16.0</td>\n",
              "      <td>0.0</td>\n",
              "      <td>0.0</td>\n",
              "      <td>0.0</td>\n",
              "    </tr>\n",
              "    <tr>\n",
              "      <th>1</th>\n",
              "      <td>0.0</td>\n",
              "      <td>2.0</td>\n",
              "      <td>2.0</td>\n",
              "      <td>1.0</td>\n",
              "      <td>0.0</td>\n",
              "      <td>10.0</td>\n",
              "    </tr>\n",
              "    <tr>\n",
              "      <th>2</th>\n",
              "      <td>0.0</td>\n",
              "      <td>1.0</td>\n",
              "      <td>2.0</td>\n",
              "      <td>0.0</td>\n",
              "      <td>1.0</td>\n",
              "      <td>8.0</td>\n",
              "    </tr>\n",
              "  </tbody>\n",
              "</table>\n",
              "</div>"
            ],
            "text/plain": [
              "     z   x_1   x_2  s_1  s_2   RHS\n",
              "0  1.0 -10.0 -16.0  0.0  0.0   0.0\n",
              "1  0.0   2.0   2.0  1.0  0.0  10.0\n",
              "2  0.0   1.0   2.0  0.0  1.0   8.0"
            ]
          },
          "metadata": {
            "tags": []
          },
          "execution_count": 20
        }
      ]
    },
    {
      "cell_type": "markdown",
      "metadata": {
        "id": "EmKx-Ib69YL2",
        "colab_type": "text"
      },
      "source": [
        "Now we can define the block matrix used for the first iteration of the simplex algorithm, assuming that we determine what this matrix should be by hand."
      ]
    },
    {
      "cell_type": "code",
      "metadata": {
        "id": "ctti2bPa51Ve",
        "colab_type": "code",
        "colab": {}
      },
      "source": [
        "y1=np.array([4,0,0])\n",
        "M1=np.array([[1,0,0],\n",
        "            [-2,1,0],\n",
        "            [-3,0,1]])\n",
        "S1=np.block([[1,y],\n",
        "          [np.zeros(3)[:,np.newaxis],M]])\n",
        "print(S1)"
      ],
      "execution_count": 0,
      "outputs": []
    },
    {
      "cell_type": "markdown",
      "metadata": {
        "id": "UyKhA-SC_EXD",
        "colab_type": "text"
      },
      "source": [
        "Now we can multiply to carry out the first iteration of the simplex algorithm."
      ]
    },
    {
      "cell_type": "code",
      "metadata": {
        "id": "cSxWz5kX_KH8",
        "colab_type": "code",
        "outputId": "1db2f7e3-25a0-4e4a-da56-a879491a9716",
        "colab": {
          "base_uri": "https://localhost:8080/",
          "height": 141
        }
      },
      "source": [
        "TableauMatrix2=S1@TableauMatrix1\n",
        "Tableau(TableauMatrix2)"
      ],
      "execution_count": 0,
      "outputs": [
        {
          "output_type": "execute_result",
          "data": {
            "text/html": [
              "<div>\n",
              "<style scoped>\n",
              "    .dataframe tbody tr th:only-of-type {\n",
              "        vertical-align: middle;\n",
              "    }\n",
              "\n",
              "    .dataframe tbody tr th {\n",
              "        vertical-align: top;\n",
              "    }\n",
              "\n",
              "    .dataframe thead th {\n",
              "        text-align: right;\n",
              "    }\n",
              "</style>\n",
              "<table border=\"1\" class=\"dataframe\">\n",
              "  <thead>\n",
              "    <tr style=\"text-align: right;\">\n",
              "      <th></th>\n",
              "      <th>z</th>\n",
              "      <th>x_1</th>\n",
              "      <th>x_2</th>\n",
              "      <th>s_1</th>\n",
              "      <th>s_2</th>\n",
              "      <th>RHS</th>\n",
              "    </tr>\n",
              "  </thead>\n",
              "  <tbody>\n",
              "    <tr>\n",
              "      <th>0</th>\n",
              "      <td>1.0</td>\n",
              "      <td>-2.0</td>\n",
              "      <td>0.0</td>\n",
              "      <td>0.0</td>\n",
              "      <td>8.0</td>\n",
              "      <td>64.0</td>\n",
              "    </tr>\n",
              "    <tr>\n",
              "      <th>1</th>\n",
              "      <td>0.0</td>\n",
              "      <td>1.0</td>\n",
              "      <td>0.0</td>\n",
              "      <td>1.0</td>\n",
              "      <td>-1.0</td>\n",
              "      <td>2.0</td>\n",
              "    </tr>\n",
              "    <tr>\n",
              "      <th>2</th>\n",
              "      <td>0.0</td>\n",
              "      <td>0.5</td>\n",
              "      <td>1.0</td>\n",
              "      <td>0.0</td>\n",
              "      <td>0.5</td>\n",
              "      <td>4.0</td>\n",
              "    </tr>\n",
              "  </tbody>\n",
              "</table>\n",
              "</div>"
            ],
            "text/plain": [
              "     z  x_1  x_2  s_1  s_2   RHS\n",
              "0  1.0 -2.0  0.0  0.0  8.0  64.0\n",
              "1  0.0  1.0  0.0  1.0 -1.0   2.0\n",
              "2  0.0  0.5  1.0  0.0  0.5   4.0"
            ]
          },
          "metadata": {
            "tags": []
          },
          "execution_count": 25
        }
      ]
    },
    {
      "cell_type": "markdown",
      "metadata": {
        "id": "RC6vCUGp_WDu",
        "colab_type": "text"
      },
      "source": [
        "Alternatively, it is possible to compute $y_1$ and $M_1$ by making the pivot in an appropriate submatrix of the initial tableau.  We take the column that we pivot in, together with columns that give an identity matrix.  Performing the pivot gives a partitioned matrix containing $y_1$ and $M_1$."
      ]
    },
    {
      "cell_type": "code",
      "metadata": {
        "id": "VVxTgS8o_v89",
        "colab_type": "code",
        "outputId": "d717d77b-dfe0-4bd2-8833-1c43de29357a",
        "colab": {
          "base_uri": "https://localhost:8080/",
          "height": 121
        }
      },
      "source": [
        "MatA=TableauMatrix1[:,[2,3,4]]\n",
        "print(MatA)\n",
        "MatB=Pivot(MatA,2,0)\n",
        "print(MatB)"
      ],
      "execution_count": 0,
      "outputs": [
        {
          "output_type": "stream",
          "text": [
            "[[-16.   0.   0.]\n",
            " [  2.   1.   0.]\n",
            " [  2.   0.   1.]]\n",
            "[[ 0.   0.   8. ]\n",
            " [ 0.   1.  -1. ]\n",
            " [ 1.   0.   0.5]]\n"
          ],
          "name": "stdout"
        }
      ]
    },
    {
      "cell_type": "code",
      "metadata": {
        "id": "xidZ6YMkAlE3",
        "colab_type": "code",
        "outputId": "4b09ff30-c6a1-4ace-d97e-f127693c82b9",
        "colab": {
          "base_uri": "https://localhost:8080/",
          "height": 69
        }
      },
      "source": [
        "y1=MatB[0,1:]\n",
        "print(y1)\n",
        "M1=MatB[1:,1:]\n",
        "print(M1)"
      ],
      "execution_count": 0,
      "outputs": [
        {
          "output_type": "stream",
          "text": [
            "[0. 8.]\n",
            "[[ 1.  -1. ]\n",
            " [ 0.   0.5]]\n"
          ],
          "name": "stdout"
        }
      ]
    },
    {
      "cell_type": "code",
      "metadata": {
        "id": "mLT0QjPWv_ae",
        "colab_type": "code",
        "colab": {}
      },
      "source": [
        "S1=np.block([[1,y1],\n",
        "          [np.zeros(2)[:,np.newaxis],M1]])"
      ],
      "execution_count": 0,
      "outputs": []
    },
    {
      "cell_type": "markdown",
      "metadata": {
        "id": "OwlVBB7pCYPn",
        "colab_type": "text"
      },
      "source": [
        "Next we compute the matrices $y_2$ and $M_2$ used for the second iteration of the simplex algorithm."
      ]
    },
    {
      "cell_type": "code",
      "metadata": {
        "id": "MT7qCE3lC3E8",
        "colab_type": "code",
        "outputId": "485f00e3-8539-4dc2-a4ab-f755b83e2e9e",
        "colab": {
          "base_uri": "https://localhost:8080/",
          "height": 141
        }
      },
      "source": [
        "Tableau(TableauMatrix2)"
      ],
      "execution_count": 0,
      "outputs": [
        {
          "output_type": "execute_result",
          "data": {
            "text/html": [
              "<div>\n",
              "<style scoped>\n",
              "    .dataframe tbody tr th:only-of-type {\n",
              "        vertical-align: middle;\n",
              "    }\n",
              "\n",
              "    .dataframe tbody tr th {\n",
              "        vertical-align: top;\n",
              "    }\n",
              "\n",
              "    .dataframe thead th {\n",
              "        text-align: right;\n",
              "    }\n",
              "</style>\n",
              "<table border=\"1\" class=\"dataframe\">\n",
              "  <thead>\n",
              "    <tr style=\"text-align: right;\">\n",
              "      <th></th>\n",
              "      <th>z</th>\n",
              "      <th>x_1</th>\n",
              "      <th>x_2</th>\n",
              "      <th>s_1</th>\n",
              "      <th>s_2</th>\n",
              "      <th>RHS</th>\n",
              "    </tr>\n",
              "  </thead>\n",
              "  <tbody>\n",
              "    <tr>\n",
              "      <th>0</th>\n",
              "      <td>1.0</td>\n",
              "      <td>-2.0</td>\n",
              "      <td>0.0</td>\n",
              "      <td>0.0</td>\n",
              "      <td>8.0</td>\n",
              "      <td>64.0</td>\n",
              "    </tr>\n",
              "    <tr>\n",
              "      <th>1</th>\n",
              "      <td>0.0</td>\n",
              "      <td>1.0</td>\n",
              "      <td>0.0</td>\n",
              "      <td>1.0</td>\n",
              "      <td>-1.0</td>\n",
              "      <td>2.0</td>\n",
              "    </tr>\n",
              "    <tr>\n",
              "      <th>2</th>\n",
              "      <td>0.0</td>\n",
              "      <td>0.5</td>\n",
              "      <td>1.0</td>\n",
              "      <td>0.0</td>\n",
              "      <td>0.5</td>\n",
              "      <td>4.0</td>\n",
              "    </tr>\n",
              "  </tbody>\n",
              "</table>\n",
              "</div>"
            ],
            "text/plain": [
              "     z  x_1  x_2  s_1  s_2   RHS\n",
              "0  1.0 -2.0  0.0  0.0  8.0  64.0\n",
              "1  0.0  1.0  0.0  1.0 -1.0   2.0\n",
              "2  0.0  0.5  1.0  0.0  0.5   4.0"
            ]
          },
          "metadata": {
            "tags": []
          },
          "execution_count": 26
        }
      ]
    },
    {
      "cell_type": "code",
      "metadata": {
        "id": "ybamWjuiDFoK",
        "colab_type": "code",
        "outputId": "2d80633a-f199-47be-8bc5-dc3ef9b7d857",
        "colab": {
          "base_uri": "https://localhost:8080/",
          "height": 52
        }
      },
      "source": [
        "RowRatios(TableauMatrix2,1)"
      ],
      "execution_count": 0,
      "outputs": [
        {
          "output_type": "stream",
          "text": [
            "Row 1 Ratio = 2.0\n",
            "Row 2 Ratio = 8.0\n"
          ],
          "name": "stdout"
        }
      ]
    },
    {
      "cell_type": "code",
      "metadata": {
        "id": "Z1008Ox8DL96",
        "colab_type": "code",
        "outputId": "c6ef6590-db6f-4df4-b7e6-f19cb1da7a78",
        "colab": {
          "base_uri": "https://localhost:8080/",
          "height": 121
        }
      },
      "source": [
        "MatA=TableauMatrix2[:,[1,3,2]]\n",
        "print(MatA)\n",
        "MatB=Pivot(MatA,1,0)\n",
        "print(MatB)"
      ],
      "execution_count": 0,
      "outputs": [
        {
          "output_type": "stream",
          "text": [
            "[[-2.   0.   0. ]\n",
            " [ 1.   1.   0. ]\n",
            " [ 0.5  0.   1. ]]\n",
            "[[ 0.   2.   0. ]\n",
            " [ 1.   1.   0. ]\n",
            " [ 0.  -0.5  1. ]]\n"
          ],
          "name": "stdout"
        }
      ]
    },
    {
      "cell_type": "code",
      "metadata": {
        "id": "wN2cYiYQDcYd",
        "colab_type": "code",
        "outputId": "c7b33f4f-1d56-494c-c6e5-32bffb5ccaa3",
        "colab": {
          "base_uri": "https://localhost:8080/",
          "height": 121
        }
      },
      "source": [
        "y2=MatB[0,1:]\n",
        "print(y2)\n",
        "M2=MatB[1:,1:]\n",
        "print(M2)\n",
        "S2=np.block([[1,y2],\n",
        "             [np.zeros(2)[:,np.newaxis],M2]])\n",
        "print(S2)"
      ],
      "execution_count": 0,
      "outputs": [
        {
          "output_type": "stream",
          "text": [
            "[2. 0.]\n",
            "[[ 1.   0. ]\n",
            " [-0.5  1. ]]\n",
            "[[ 1.   2.   0. ]\n",
            " [ 0.   1.   0. ]\n",
            " [ 0.  -0.5  1. ]]\n"
          ],
          "name": "stdout"
        }
      ]
    },
    {
      "cell_type": "markdown",
      "metadata": {
        "id": "3ANYVaoMBn7S",
        "colab_type": "text"
      },
      "source": [
        "Next we carry out the second iteration of the simplex algorithm."
      ]
    },
    {
      "cell_type": "code",
      "metadata": {
        "id": "W_gYiK0NEHP5",
        "colab_type": "code",
        "colab": {}
      },
      "source": [
        "TableauMatrix3=S2@TableauMatrix2\n",
        "Tableau(TableauMatrix3)"
      ],
      "execution_count": 0,
      "outputs": []
    },
    {
      "cell_type": "markdown",
      "metadata": {
        "id": "oxMlulhyEVti",
        "colab_type": "text"
      },
      "source": [
        "For Waypoint 2.4.3, we should verify the tableau matrix formula using $y_1$, $y_2$, $M_1$, and $M_2$.  The first calculation is shown here and the rest are left as an exercise."
      ]
    },
    {
      "cell_type": "code",
      "metadata": {
        "id": "WJAXp3-lEhcU",
        "colab_type": "code",
        "outputId": "0cbc5c25-f7f5-4925-c5d1-32605cfb210e",
        "colab": {
          "base_uri": "https://localhost:8080/",
          "height": 35
        }
      },
      "source": [
        "-c+(y1+y2@M1)@A"
      ],
      "execution_count": 0,
      "outputs": [
        {
          "output_type": "execute_result",
          "data": {
            "text/plain": [
              "array([0., 0.])"
            ]
          },
          "metadata": {
            "tags": []
          },
          "execution_count": 33
        }
      ]
    },
    {
      "cell_type": "markdown",
      "metadata": {
        "id": "E0fB0snQFZfe",
        "colab_type": "text"
      },
      "source": [
        "Finally we compute the matrices $y_3$ and $M_3$ for the third iteration of the simplex algorithm."
      ]
    },
    {
      "cell_type": "code",
      "metadata": {
        "id": "qVu_TaOsElBx",
        "colab_type": "code",
        "colab": {}
      },
      "source": [
        "Tableau(TableauMatrix3)"
      ],
      "execution_count": 0,
      "outputs": []
    },
    {
      "cell_type": "code",
      "metadata": {
        "id": "hZAHNuFCF_Hw",
        "colab_type": "code",
        "colab": {}
      },
      "source": [
        "RowRatios(TableauMatrix3,3)"
      ],
      "execution_count": 0,
      "outputs": []
    },
    {
      "cell_type": "code",
      "metadata": {
        "id": "lZW6moO6GL7J",
        "colab_type": "code",
        "colab": {}
      },
      "source": [
        "MatA=TableauMatrix3[:,[3,1,4,2]]\n",
        "print(MatA)\n",
        "MatB=Pivot(MatA,2,0)\n",
        "print(MatB)"
      ],
      "execution_count": 0,
      "outputs": []
    },
    {
      "cell_type": "code",
      "metadata": {
        "id": "EvLj0QMwGeQt",
        "colab_type": "code",
        "colab": {}
      },
      "source": [
        "y3=MatB[0,1:]\n",
        "print(y3)\n",
        "M3=MatB[1:,1:]\n",
        "print(M3)\n",
        "S3=np.block([[1,y3],\n",
        "             [np.zeros(3)[:,np.newaxis],M3]])\n",
        "print(S3)"
      ],
      "execution_count": 0,
      "outputs": []
    },
    {
      "cell_type": "code",
      "metadata": {
        "id": "1P6AO5vpGlON",
        "colab_type": "code",
        "colab": {}
      },
      "source": [
        "TableauMatrix4=S3@TableauMatrix3\n",
        "Tableau(TableauMatrix4)"
      ],
      "execution_count": 0,
      "outputs": []
    },
    {
      "cell_type": "markdown",
      "metadata": {
        "id": "wat44jHKGuxK",
        "colab_type": "text"
      },
      "source": [
        "---\n",
        "We can also confirm the calculations of Theorem 2.4.1 in this case."
      ]
    },
    {
      "cell_type": "code",
      "metadata": {
        "id": "EA0At7t4G6n1",
        "colab_type": "code",
        "colab": {}
      },
      "source": [
        "M=M3@M2@M1\n",
        "print(M)"
      ],
      "execution_count": 0,
      "outputs": []
    },
    {
      "cell_type": "code",
      "metadata": {
        "id": "6yZioknQHFO-",
        "colab_type": "code",
        "colab": {}
      },
      "source": [
        "y=y1+y2@M1+y3@M2@M1\n",
        "print(y)"
      ],
      "execution_count": 0,
      "outputs": []
    },
    {
      "cell_type": "code",
      "metadata": {
        "id": "KytLiNunHYno",
        "colab_type": "code",
        "colab": {}
      },
      "source": [
        "-c+y@A"
      ],
      "execution_count": 0,
      "outputs": []
    },
    {
      "cell_type": "code",
      "metadata": {
        "id": "zqgqgaAMH4gK",
        "colab_type": "code",
        "colab": {}
      },
      "source": [
        "y@b"
      ],
      "execution_count": 0,
      "outputs": []
    },
    {
      "cell_type": "code",
      "metadata": {
        "id": "WD_8iwz0H6gS",
        "colab_type": "code",
        "colab": {}
      },
      "source": [
        "M@A"
      ],
      "execution_count": 0,
      "outputs": []
    },
    {
      "cell_type": "code",
      "metadata": {
        "id": "A1MfhUl0H8Lt",
        "colab_type": "code",
        "colab": {}
      },
      "source": [
        "M@b[:,np.newaxis]"
      ],
      "execution_count": 0,
      "outputs": []
    },
    {
      "cell_type": "code",
      "metadata": {
        "id": "HthnLZ-lIBw8",
        "colab_type": "code",
        "colab": {}
      },
      "source": [
        "S = np.block([[1,y],\n",
        "              [np.zeros(3)[:,np.newaxis],M]])\n",
        "print(S)\n",
        "T = np.block([[1,-c,np.zeros(3),0],\n",
        "              [np.zeros(3)[:,np.newaxis],A,np.eye(3),b[:,np.newaxis]]])\n",
        "print(T)\n",
        "print(S@T)"
      ],
      "execution_count": 0,
      "outputs": []
    },
    {
      "cell_type": "code",
      "metadata": {
        "id": "mCAJfpMeJE15",
        "colab_type": "code",
        "colab": {}
      },
      "source": [
        "print(np.block([[1,-c+y@A,y,y@b],\n",
        "                [np.zeros(3)[:,np.newaxis],M@A,M,M@b[:,np.newaxis]]])\n",
        "     )"
      ],
      "execution_count": 0,
      "outputs": []
    }
  ]
}