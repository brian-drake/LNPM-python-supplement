{
  "nbformat": 4,
  "nbformat_minor": 0,
  "metadata": {
    "kernelspec": {
      "display_name": "Python 3",
      "language": "python",
      "name": "python3"
    },
    "language_info": {
      "codemirror_mode": {
        "name": "ipython",
        "version": 3
      },
      "file_extension": ".py",
      "mimetype": "text/x-python",
      "name": "python",
      "nbconvert_exporter": "python",
      "pygments_lexer": "ipython3",
      "version": "3.7.1"
    },
    "colab": {
      "name": "Section1_1.ipynb",
      "provenance": [],
      "collapsed_sections": [],
      "include_colab_link": true
    }
  },
  "cells": [
    {
      "cell_type": "markdown",
      "metadata": {
        "id": "view-in-github",
        "colab_type": "text"
      },
      "source": [
        "<a href=\"https://colab.research.google.com/github/brian-drake/LNPM-python-supplement/blob/master/Section1_1.ipynb\" target=\"_parent\"><img src=\"https://colab.research.google.com/assets/colab-badge.svg\" alt=\"Open In Colab\"/></a>"
      ]
    },
    {
      "cell_type": "markdown",
      "metadata": {
        "id": "iPklvOjUw_RL",
        "colab_type": "text"
      },
      "source": [
        "<h1>Section 1.1</h1>\n",
        "\n",
        "We will be using the <code>pulp</code> Python package to solve LPs.  In this notebook we will be solving the $FuelPro$ problem from section 1.1 of the text.  The first cell of this notebook will install <code>pulp</code> and then import it into python."
      ]
    },
    {
      "cell_type": "code",
      "metadata": {
        "id": "d9c--pmmxM2D",
        "colab_type": "code",
        "colab": {}
      },
      "source": [
        "!pip install pulp\n",
        "import pulp"
      ],
      "execution_count": 0,
      "outputs": []
    },
    {
      "cell_type": "markdown",
      "metadata": {
        "id": "6I4kUZiLw_RY",
        "colab_type": "text"
      },
      "source": [
        "We first create an object for our LP.  We may choose either <code>pulp.LpMaximize</code> or <code>pulp.LpMinimize</code> as appropriate for the problem."
      ]
    },
    {
      "cell_type": "code",
      "metadata": {
        "id": "uQATlfJLw_Ra",
        "colab_type": "code",
        "colab": {}
      },
      "source": [
        "FuelPro = pulp.LpProblem(\"The_FuelPro_Blending_Problem\", pulp.LpMaximize)"
      ],
      "execution_count": 0,
      "outputs": []
    },
    {
      "cell_type": "markdown",
      "metadata": {
        "id": "v7EehdtEw_Rd",
        "colab_type": "text"
      },
      "source": [
        "We also create the decision variables.  The arguments are the name, lower bound, upper bound, and type.  The type is either <code>pulp.LpContinuous</code> or <code>pulp.LpInteger</code>.  You may omit the type if you choose, and it will use the default <code>pulp.LpContinuous</code>.  You may also omit the bounds for an unbounded variable, although in our text almost all variables are nonnegative so at least the lower bound will be necessary."
      ]
    },
    {
      "cell_type": "code",
      "metadata": {
        "id": "1UDAYMqPw_Re",
        "colab_type": "code",
        "colab": {}
      },
      "source": [
        "x1 = pulp.LpVariable(\"Premium_Grade\", 0, None, pulp.LpContinuous)\n",
        "x2 = pulp.LpVariable(\"Regular_Grade\", 0, None, pulp.LpContinuous)"
      ],
      "execution_count": 0,
      "outputs": []
    },
    {
      "cell_type": "markdown",
      "metadata": {
        "id": "JKUOxLtrw_Rh",
        "colab_type": "text"
      },
      "source": [
        "Although it is not necessary, we can see what is currently in our LP by printing it.  We see that it is a maximization problem with no objective function and no variables."
      ]
    },
    {
      "cell_type": "code",
      "metadata": {
        "id": "JtJfMDhCw_Rh",
        "colab_type": "code",
        "colab": {}
      },
      "source": [
        "print(FuelPro)"
      ],
      "execution_count": 0,
      "outputs": []
    },
    {
      "cell_type": "markdown",
      "metadata": {
        "id": "DAiYdvuaw_Rm",
        "colab_type": "text"
      },
      "source": [
        "Now we need to add the objective function to <code>FuelPro</code>, using the operator <code>+=</code>.  The LP variables are automatically added when we add the objective function.\n",
        "\n",
        "We may add an optional descriptive string at the same time, following by a comma."
      ]
    },
    {
      "cell_type": "code",
      "metadata": {
        "id": "waJavDiHw_Rn",
        "colab_type": "code",
        "colab": {}
      },
      "source": [
        "FuelPro += 4*x1+3*x2, \"Profit_in_a_given_hour\""
      ],
      "execution_count": 0,
      "outputs": []
    },
    {
      "cell_type": "markdown",
      "metadata": {
        "id": "5OEEhPUVw_Ru",
        "colab_type": "text"
      },
      "source": [
        "Again, we may check to see what is in our LP."
      ]
    },
    {
      "cell_type": "code",
      "metadata": {
        "id": "vVqdxHI1w_Rv",
        "colab_type": "code",
        "colab": {}
      },
      "source": [
        "print(FuelPro)"
      ],
      "execution_count": 0,
      "outputs": []
    },
    {
      "cell_type": "markdown",
      "metadata": {
        "id": "AK15GC0Sw_Ry",
        "colab_type": "text"
      },
      "source": [
        "Next we add the constraints, also using the operator <code>+=</code>.  Remember that each constraint is an inequality and requires either <code>\\<=</code> or <code>\\>=</code>.  It is also possible to add equality constraints, which must be added as <code>==</code> (since a single <code>=</code> is an assignment in Python, not equality)."
      ]
    },
    {
      "cell_type": "code",
      "metadata": {
        "id": "s2oYAA_xw_Ry",
        "colab_type": "code",
        "colab": {}
      },
      "source": [
        "FuelPro += 2*x1+2*x2<=28, \"Limit_of_stock_A\"\n",
        "FuelPro += 3*x1+2*x2<=32, \"Limit_of_stock_B\"\n",
        "FuelPro += x1<=8, \"Limit_on_sale_of_premium\""
      ],
      "execution_count": 0,
      "outputs": []
    },
    {
      "cell_type": "markdown",
      "metadata": {
        "id": "h3vPJ2w7w_R1",
        "colab_type": "text"
      },
      "source": [
        "Again, an unnecessary check shows that we have now added everything needed to our LP."
      ]
    },
    {
      "cell_type": "code",
      "metadata": {
        "id": "NWe6l0Epw_R2",
        "colab_type": "code",
        "colab": {}
      },
      "source": [
        "print(FuelPro)"
      ],
      "execution_count": 0,
      "outputs": []
    },
    {
      "cell_type": "markdown",
      "metadata": {
        "id": "1F5NgMfNw_R7",
        "colab_type": "text"
      },
      "source": [
        "Now we can solve the LP.  It will return an integer which gives the status of the problem."
      ]
    },
    {
      "cell_type": "code",
      "metadata": {
        "id": "kJ3pnjH4w_R9",
        "colab_type": "code",
        "colab": {}
      },
      "source": [
        "FuelPro.solve()"
      ],
      "execution_count": 0,
      "outputs": []
    },
    {
      "cell_type": "markdown",
      "metadata": {
        "id": "e9VyAhYAw_SA",
        "colab_type": "text"
      },
      "source": [
        "Instead of learning what the different integers mean for status (1 an optimal solution is found, -2 means LP is unbounded, ...), we ask pulp to return the status. "
      ]
    },
    {
      "cell_type": "code",
      "metadata": {
        "id": "KY1lvWUvw_SB",
        "colab_type": "code",
        "colab": {}
      },
      "source": [
        "print(\"Status:\", pulp.LpStatus[FuelPro.status])"
      ],
      "execution_count": 0,
      "outputs": []
    },
    {
      "cell_type": "markdown",
      "metadata": {
        "id": "A5ofcgzzw_SE",
        "colab_type": "text"
      },
      "source": [
        "We would want to know the values of the objective function and the LP variables at an optimal solution, which we may print as follows.\n",
        "\n",
        "It is actually useful that these are not printed automatically, since we will later be working with LPs which may have hundreds of variables.  In this example the code loops through all the variables and prints their values.  In a problem with many variables, one might want to add a conditional to only print those which are nonzero, for example.  It is also possible to print the value of a single variable at the optimal solution, using code such as <code>pulp.value(x1)</code> or <code>x1.varValue</code>."
      ]
    },
    {
      "cell_type": "code",
      "metadata": {
        "id": "qY1Szqfbw_SE",
        "colab_type": "code",
        "colab": {}
      },
      "source": [
        "print(\"Objective function value is\", pulp.value(FuelPro.objective))\n",
        "\n",
        "for v in FuelPro.variables():\n",
        "    print(v.name, \"=\", v.varValue)"
      ],
      "execution_count": 0,
      "outputs": []
    },
    {
      "cell_type": "markdown",
      "metadata": {
        "id": "WAvMtHc2YdA-",
        "colab_type": "text"
      },
      "source": [
        "We see that we should produce 4 units of premium grade and 10 units of regular grade to obtain a profit of 46 in a given hour."
      ]
    }
  ]
}