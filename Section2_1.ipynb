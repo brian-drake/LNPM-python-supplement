{
  "nbformat": 4,
  "nbformat_minor": 0,
  "metadata": {
    "kernelspec": {
      "display_name": "Python 3",
      "language": "python",
      "name": "python3"
    },
    "language_info": {
      "codemirror_mode": {
        "name": "ipython",
        "version": 3
      },
      "file_extension": ".py",
      "mimetype": "text/x-python",
      "name": "python",
      "nbconvert_exporter": "python",
      "pygments_lexer": "ipython3",
      "version": "3.7.1"
    },
    "colab": {
      "name": "Section2_1.ipynb",
      "provenance": [],
      "collapsed_sections": []
    }
  },
  "cells": [
    {
      "cell_type": "markdown",
      "metadata": {
        "id": "drIT-VbsdyUa",
        "colab_type": "text"
      },
      "source": [
        "<h1>Section 2.1.4: A Python implementation of the simplex algorithm</h1>"
      ]
    },
    {
      "cell_type": "markdown",
      "metadata": {
        "id": "Tl75jucJdyUe",
        "colab_type": "text"
      },
      "source": [
        "In this worksheet we develop a step by step implementation of the simplex algorithm, following section 2.1 in the text.  We use <code>numpy</code> for matrix operations and <code>pandas</code> to display tableaux with labels.\n",
        "\n",
        "Since numpy does not have built-in row reduction procedures, we define them in the first code block in the worksheet."
      ]
    },
    {
      "cell_type": "code",
      "metadata": {
        "id": "zaYJ1X_OdyUg",
        "colab_type": "code",
        "colab": {}
      },
      "source": [
        "import numpy as np\n",
        "import pandas as pd"
      ],
      "execution_count": 0,
      "outputs": []
    },
    {
      "cell_type": "code",
      "metadata": {
        "id": "G4M0ST91dyUo",
        "colab_type": "code",
        "colab": {}
      },
      "source": [
        "def SwapRow(arrayA,rowi,rowj): #interchange rows i and j\n",
        "    arrayB=arrayA.copy()\n",
        "    arrayB[rowi]=arrayA[rowj]\n",
        "    arrayB[rowj]=arrayA[rowi]\n",
        "    return arrayB\n",
        "def AddRow(arrayA,rowi,rowj,s): #add s * row j to row i\n",
        "    arrayB=arrayA.copy()\n",
        "    arrayB=arrayB.astype(float) #to avoid division errors with integer arrays\n",
        "    arrayB[rowi]=arrayA[rowi]+s*arrayA[rowj]\n",
        "    return arrayB\n",
        "def MultiplyRow(arrayA,rowi,s): #multiply row i by s\n",
        "    arrayB=arrayA.copy()\n",
        "    arrayB=arrayB.astype(float) #to avoid division errors with integer arrays\n",
        "    arrayB[rowi]=s*arrayA[rowi]\n",
        "    return arrayB\n",
        "def Pivot(arrayA,rowi,colj): #pivot matrix at row i and column j\n",
        "    arrayB=arrayA.copy()\n",
        "    arrayB=MultiplyRow(arrayA,rowi,1/arrayA[rowi,colj])\n",
        "    for x in range(0,rowi):\n",
        "        arrayB=AddRow(arrayB,x,rowi,-arrayB[x,colj])\n",
        "    for x in range(rowi+1,arrayB.shape[0]):\n",
        "        arrayB=AddRow(arrayB,x,rowi,-arrayB[x,colj])\n",
        "    return arrayB"
      ],
      "execution_count": 0,
      "outputs": []
    },
    {
      "cell_type": "markdown",
      "metadata": {
        "id": "b-19wm3edyUx",
        "colab_type": "text"
      },
      "source": [
        "Next we set up the tableaux for an LP of the following form.\n",
        "\n",
        "<center>\n",
        "maximize $z={\\bf c}\\cdot {\\bf x}$ <br>\n",
        "subject to <br>\n",
        "$A{\\bf x}\\leq {\\bf b}$ <br>\n",
        "${\\bf x} \\geq {\\bf 0}$\n",
        "</center>\n",
        "\n",
        "To use this worksheet for another problem, the data in the next code block should be changed by hand.  The following code blocks should be run to define all the necessary procedures."
      ]
    },
    {
      "cell_type": "code",
      "metadata": {
        "id": "zVYiDTpKdyU0",
        "colab_type": "code",
        "colab": {}
      },
      "source": [
        "c = np.array([4,3])\n",
        "#create a one-dimensional array of objective function coefficients\n",
        "A = np.array([[1,0],\n",
        "             [2,2],\n",
        "             [3,2]])\n",
        "#create a two-dimensional array of constraint coefficients\n",
        "b = np.array([8,28,32])\n",
        "#create a one-dimensional array of constraint bounds"
      ],
      "execution_count": 0,
      "outputs": []
    },
    {
      "cell_type": "code",
      "metadata": {
        "id": "xlqUhV8PdyU4",
        "colab_type": "code",
        "colab": {}
      },
      "source": [
        "n=len(c)\n",
        "m=len(b)\n",
        "#find the number of decision variables and constraints, respectively\n",
        "x=['x_'+str(i+1) for i in range(n)]\n",
        "s=['s_'+str(i+1) for i in range(m)]\n",
        "Labels=['z']+x+s+['RHS']\n",
        "#create labels for decision and slack variables\n",
        "def Tableau(M):\n",
        "    return pd.DataFrame(M,columns=Labels)\n",
        "#procedure to add column labels to an LPMatrix\n",
        "LPMatrix = np.block([\n",
        "    [1,-c,np.zeros(m+1)],\n",
        "    [np.zeros((m,1)),A,np.identity(m),b[:,np.newaxis]]\n",
        "])\n",
        "#create array corresponding to the initial tableau\n",
        "def RowRatios(M,c):\n",
        "    for i in range(m):\n",
        "        if (M[i+1,c]>0.001):\n",
        "            print(\"Row\", i+1, \"Ratio =\", M[i+1,-1]/M[i+1,c])\n",
        "        else:\n",
        "            print(\"Row\", i+1, \"Ratio Undefined\")\n",
        "#row ratio test for LPMatrix M and column c\n",
        "def Iterate(M,r,c):\n",
        "    M2=MultiplyRow(M,r,1/M[r,c])\n",
        "    M2=Pivot(M2,r,c)\n",
        "    return M2"
      ],
      "execution_count": 0,
      "outputs": []
    },
    {
      "cell_type": "markdown",
      "metadata": {
        "id": "duZnsz7idyU8",
        "colab_type": "text"
      },
      "source": [
        "Now apply the simplex method step by step.  This notebook differs slightly from the text, since this version of <code>Iterate</code> does not automatically overwrite the LPMatrix.  Instead we save each tableau with a new name, although it is possible to overwrite the same name."
      ]
    },
    {
      "cell_type": "code",
      "metadata": {
        "id": "2sA-HnpUdyU9",
        "colab_type": "code",
        "colab": {}
      },
      "source": [
        "M1=LPMatrix\n",
        "Tableau(M1)"
      ],
      "execution_count": 0,
      "outputs": []
    },
    {
      "cell_type": "markdown",
      "metadata": {
        "id": "k9aF1bWzd0lI",
        "colab_type": "text"
      },
      "source": [
        "When computing row ratios, we input the tableau and the column we are using.  The $z$ variable corresponds to column 0 (which we never use for these ratios.)  In this example, the decision variable x1 is column 1, x2 is column 2, s1 is column 3, and so on."
      ]
    },
    {
      "cell_type": "code",
      "metadata": {
        "id": "9TDEgzyXdyVC",
        "colab_type": "code",
        "colab": {}
      },
      "source": [
        "RowRatios(M1,1)"
      ],
      "execution_count": 0,
      "outputs": []
    },
    {
      "cell_type": "markdown",
      "metadata": {
        "id": "_aNjw7Fgd4n4",
        "colab_type": "text"
      },
      "source": [
        "When we call Iterate, we input the tableau, then the row, then the column.  The rows are labeled so that the objective function corresponds to row 0."
      ]
    },
    {
      "cell_type": "code",
      "metadata": {
        "id": "H4q312BqdyVF",
        "colab_type": "code",
        "colab": {}
      },
      "source": [
        "M2=Iterate(M1,1,1)\n",
        "Tableau(M2)"
      ],
      "execution_count": 0,
      "outputs": []
    },
    {
      "cell_type": "code",
      "metadata": {
        "id": "Oy7LS9i4dyVJ",
        "colab_type": "code",
        "colab": {}
      },
      "source": [
        "RowRatios(M2,2)"
      ],
      "execution_count": 0,
      "outputs": []
    },
    {
      "cell_type": "code",
      "metadata": {
        "id": "ePeH1byEdyVP",
        "colab_type": "code",
        "colab": {}
      },
      "source": [
        "M3=Iterate(M2,3,2)\n",
        "Tableau(M3)"
      ],
      "execution_count": 0,
      "outputs": []
    },
    {
      "cell_type": "code",
      "metadata": {
        "id": "w4DMvGxHdyVU",
        "colab_type": "code",
        "colab": {}
      },
      "source": [
        "RowRatios(M3,3)"
      ],
      "execution_count": 0,
      "outputs": []
    },
    {
      "cell_type": "code",
      "metadata": {
        "id": "7Ahp7C48dyVW",
        "colab_type": "code",
        "colab": {}
      },
      "source": [
        "M4=Iterate(M3,2,3)\n",
        "Tableau(M4)"
      ],
      "execution_count": 0,
      "outputs": []
    },
    {
      "cell_type": "code",
      "metadata": {
        "id": "v74f9Hr8dyVa",
        "colab_type": "code",
        "colab": {}
      },
      "source": [
        ""
      ],
      "execution_count": 0,
      "outputs": []
    }
  ]
}