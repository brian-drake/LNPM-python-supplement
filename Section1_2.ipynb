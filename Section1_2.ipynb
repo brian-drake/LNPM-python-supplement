{
  "nbformat": 4,
  "nbformat_minor": 0,
  "metadata": {
    "kernelspec": {
      "display_name": "Python 3",
      "language": "python",
      "name": "python3"
    },
    "language_info": {
      "codemirror_mode": {
        "name": "ipython",
        "version": 3
      },
      "file_extension": ".py",
      "mimetype": "text/x-python",
      "name": "python",
      "nbconvert_exporter": "python",
      "pygments_lexer": "ipython3",
      "version": "3.7.1"
    },
    "colab": {
      "name": "Section1_2.ipynb",
      "provenance": [],
      "collapsed_sections": []
    }
  },
  "cells": [
    {
      "cell_type": "markdown",
      "metadata": {
        "id": "aS2OXJjCHA6P",
        "colab_type": "text"
      },
      "source": [
        "<h1>Section 1.2: Linear Programming a graphical perspective in $\\mathbb{R}^2$</h1>"
      ]
    },
    {
      "cell_type": "markdown",
      "metadata": {
        "id": "KFs6k-dxHA6T",
        "colab_type": "text"
      },
      "source": [
        "We will be using <code>matplotlib</code> to graph feasible regions and contours of the objective function.  One simple way to graph an implicitly defined function such as $3x_1+2x_2=32$ is to graph the $z=32$ contour of the two-variable function $z=3x_1+2x_2$.  Adding several such contours to a graph shows the feasible region.  Then we can use similar code to graph contours of the objective function.  The resulting graph may be used to solve the LP.\n",
        "\n",
        "One drawback of this method is that it does not shade the feasible region defined by inequalities.  Instead, one may graph other contours, such as the $z=30$ and $z=31$ contours in the example, to determine which half-space lies in the feasible region."
      ]
    },
    {
      "cell_type": "code",
      "metadata": {
        "id": "zVZKY3LrHA6U",
        "colab_type": "code",
        "colab": {}
      },
      "source": [
        "import matplotlib.pyplot as plt\n",
        "import numpy as np"
      ],
      "execution_count": 0,
      "outputs": []
    },
    {
      "cell_type": "markdown",
      "metadata": {
        "id": "l4R_pAMSHA6Y",
        "colab_type": "text"
      },
      "source": [
        "We may graph $3x_1+2x_2=32$ with the code below.  The first lines set up a graphing region.  The numpy function <code>arange</code> creates an array of equally spaced values with a given range and stepsize.  Then <code>meshgrid</code> arranges them into a grid of points on which the graph is drawn.\n",
        "\n",
        "Next we add lines to our plot using mathplotlib's <code>contour</code> function.  We input our variables, the function to be graphed, and a list or array of constants.  Recall that we are graphing the $z=32$ contour of $z=3x_1+2x_2$.  If we wanted to see more contours, we could replace <code>[32]</code> with <code>[30, 31, 32]</code> or <code>np.arange(5,32,0.5)</code>.\n",
        "\n",
        "Note that changing the plot to include contours less than 32 tells us which half-space belongs to $3x_1+2x_2\\leq 32$ for our feasible region.\n",
        "\n",
        "Finally, the last line displays the plot. To add more objects to the same plot, they should be placed before the <code>show()</code> command."
      ]
    },
    {
      "cell_type": "code",
      "metadata": {
        "id": "SViEzMM0HA6Z",
        "colab_type": "code",
        "colab": {}
      },
      "source": [
        "delta = 0.020\n",
        "x1range = np.arange(0, 15, delta)\n",
        "x2range = np.arange(0, 20, delta)\n",
        "x1, x2 = np.meshgrid(x1range,x2range)\n",
        "\n",
        "plt.contour(x1, x2, 3*x1+2*x2, [32])\n",
        "plt.show()"
      ],
      "execution_count": 0,
      "outputs": []
    },
    {
      "cell_type": "markdown",
      "metadata": {
        "id": "JfNdB5TyHA6d",
        "colab_type": "text"
      },
      "source": [
        "Now that we see how to graph one line, it is easy to add additional objects to the plot.  The following code displays the plot for the LP for Waypoint 1.2.2 in the text."
      ]
    },
    {
      "cell_type": "code",
      "metadata": {
        "id": "I2kpibnpHA6e",
        "colab_type": "code",
        "colab": {}
      },
      "source": [
        "delta = 0.020\n",
        "x1range = np.arange(0, 15, delta)\n",
        "x2range = np.arange(0, 20, delta)\n",
        "x1, x2 = np.meshgrid(x1range,x2range)\n",
        "\n",
        "plt.contour(x1, x2, x1, [8])\n",
        "plt.contour(x1, x2, 2*x1+2*x2, [28])\n",
        "plt.contour(x1, x2, 3*x1+2*x2, [32])\n",
        "plt.contour(x1, x2, 4*x1+3*x2, np.arange(0,50,5))\n",
        "plt.show()"
      ],
      "execution_count": 0,
      "outputs": []
    },
    {
      "cell_type": "markdown",
      "metadata": {
        "id": "OV8eFRHwHA6k",
        "colab_type": "text"
      },
      "source": [
        "Instead of approximating visually, one could solve to find the intersection of two of the boundaries.  The following code solves the matrix equation $Ax=b$ in numpy."
      ]
    },
    {
      "cell_type": "code",
      "metadata": {
        "id": "tx9W5tFnHA6l",
        "colab_type": "code",
        "colab": {}
      },
      "source": [
        "A=np.array([[1,0],\n",
        "            [3,2]\n",
        "           ])\n",
        "b=np.array([8,32])\n",
        "np.linalg.solve(A,b)"
      ],
      "execution_count": 0,
      "outputs": []
    },
    {
      "cell_type": "code",
      "metadata": {
        "id": "hBUx6uKdHA6o",
        "colab_type": "code",
        "colab": {}
      },
      "source": [
        ""
      ],
      "execution_count": 0,
      "outputs": []
    }
  ]
}