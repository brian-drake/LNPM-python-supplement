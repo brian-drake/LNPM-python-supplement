{
  "nbformat": 4,
  "nbformat_minor": 0,
  "metadata": {
    "kernelspec": {
      "display_name": "Python 3",
      "language": "python",
      "name": "python3"
    },
    "language_info": {
      "codemirror_mode": {
        "name": "ipython",
        "version": 3
      },
      "file_extension": ".py",
      "mimetype": "text/x-python",
      "name": "python",
      "nbconvert_exporter": "python",
      "pygments_lexer": "ipython3",
      "version": "3.7.1"
    },
    "colab": {
      "name": "Section_3_2_CoalTransshipment_complete.ipynb",
      "provenance": [],
      "collapsed_sections": []
    }
  },
  "cells": [
    {
      "cell_type": "markdown",
      "metadata": {
        "id": "idkvYWLp3tT9",
        "colab_type": "text"
      },
      "source": [
        "<h1>Section 3.2.3 Coal Distribution with Transshipment</h1>\n",
        "\n",
        "In this notebook we use <code>pulp</code> to solve the coal distribuion with transshipment problem from the text."
      ]
    },
    {
      "cell_type": "code",
      "metadata": {
        "id": "wPKchqKi3tT-",
        "colab_type": "code",
        "colab": {}
      },
      "source": [
        "!pip install pulp\n",
        "\n",
        "import numpy as np\n",
        "import pulp"
      ],
      "execution_count": 0,
      "outputs": []
    },
    {
      "cell_type": "code",
      "metadata": {
        "id": "vvFMfLhZ3tUC",
        "colab_type": "code",
        "colab": {}
      },
      "source": [
        "CostTo=np.array([\n",
        "    [4,3],\n",
        "    [5,4],\n",
        "    [2,4]\n",
        "])\n",
        "CostFrom=np.array([\n",
        "    [3,5,4,3],\n",
        "    [4,3,4,4]\n",
        "])\n",
        "print(CostTo)\n",
        "print(CostFrom)"
      ],
      "execution_count": 0,
      "outputs": []
    },
    {
      "cell_type": "markdown",
      "metadata": {
        "id": "gzJ3_S6W3tUH",
        "colab_type": "text"
      },
      "source": [
        "We first create LpProblem in pulp."
      ]
    },
    {
      "cell_type": "code",
      "metadata": {
        "id": "td9LCGtq3tUI",
        "colab_type": "code",
        "colab": {}
      },
      "source": [
        "Coal2LP = pulp.LpProblem(\"Coal Transshipment Problem\",pulp.LpMinimize)"
      ],
      "execution_count": 0,
      "outputs": []
    },
    {
      "cell_type": "markdown",
      "metadata": {
        "id": "_bOkeCVU3tUL",
        "colab_type": "text"
      },
      "source": [
        "We next create the decision variables.  These come in two types: $x_{i,j}$ is the amount shipped from mine $i$ to station $j$, while $y_{j,k}$ is the amount shipped from station $j$ to city $k$."
      ]
    },
    {
      "cell_type": "code",
      "metadata": {
        "id": "UtrQ-kY53tUN",
        "colab_type": "code",
        "colab": {}
      },
      "source": [
        "Mines = range(3)\n",
        "Stations = range(2)\n",
        "Cities = range(4)\n",
        "\n",
        "x = pulp.LpVariable.dicts(\"x\",(Mines,Stations),0,None,pulp.LpContinuous)\n",
        "y = pulp.LpVariable.dicts(\"y\",(Stations,Cities),0,None,pulp.LpContinuous)"
      ],
      "execution_count": 0,
      "outputs": []
    },
    {
      "cell_type": "markdown",
      "metadata": {
        "id": "rrHqN33t3tUR",
        "colab_type": "text"
      },
      "source": [
        "Now we add the objective function."
      ]
    },
    {
      "cell_type": "code",
      "metadata": {
        "id": "AuI8v9t93tUR",
        "colab_type": "code",
        "colab": {}
      },
      "source": [
        "Coal2LP += sum(x[mine][station]*CostTo[mine,station] for mine in Mines for station in Stations) + sum(y[station][city]*CostFrom[station,city] for station in Stations for city in Cities ), \"Total Cost\""
      ],
      "execution_count": 0,
      "outputs": []
    },
    {
      "cell_type": "code",
      "metadata": {
        "id": "QUujLDeg3tUU",
        "colab_type": "code",
        "colab": {}
      },
      "source": [
        "Coal2LP"
      ],
      "execution_count": 0,
      "outputs": []
    },
    {
      "cell_type": "markdown",
      "metadata": {
        "id": "r1qqopvN3tUW",
        "colab_type": "text"
      },
      "source": [
        "We need to add three types of contraints.\n",
        "1. Amount shipped to each city does not exceed demand.\n",
        "2. Amount shipped from each mine does not exceed supply.\n",
        "3. Amounts shipped in and out of each station are equal."
      ]
    },
    {
      "cell_type": "code",
      "metadata": {
        "id": "G-qJlAip3tUX",
        "colab_type": "code",
        "colab": {}
      },
      "source": [
        "Demand=[4,3,5,2]\n",
        "for city in Cities:\n",
        "    Coal2LP += sum(y[station][city] for station in Stations) >= Demand[city]\n",
        "    \n",
        "Supply=[5,5,4]\n",
        "for mine in Mines:\n",
        "    Coal2LP += sum(x[mine][station] for station in Stations) <= Supply[mine]\n",
        "    \n",
        "for station in Stations:\n",
        "    Coal2LP += sum(x[mine][station] for mine in Mines) == sum(y[station][city] for city in Cities)"
      ],
      "execution_count": 0,
      "outputs": []
    },
    {
      "cell_type": "code",
      "metadata": {
        "id": "zgWr2J1a3tUZ",
        "colab_type": "code",
        "colab": {}
      },
      "source": [
        "Coal2LP"
      ],
      "execution_count": 0,
      "outputs": []
    },
    {
      "cell_type": "markdown",
      "metadata": {
        "id": "bNHXdYyc3tUc",
        "colab_type": "text"
      },
      "source": [
        "Our LP is complete and we are ready to solve."
      ]
    },
    {
      "cell_type": "code",
      "metadata": {
        "id": "T0WIZvtI3tUc",
        "colab_type": "code",
        "colab": {}
      },
      "source": [
        "Coal2LP.solve()\n",
        "print(\"Status:\", pulp.LpStatus[Coal2LP.status])"
      ],
      "execution_count": 0,
      "outputs": []
    },
    {
      "cell_type": "code",
      "metadata": {
        "id": "-EjXLXDX3tUf",
        "colab_type": "code",
        "colab": {}
      },
      "source": [
        "pulp.value(Coal2LP.objective)"
      ],
      "execution_count": 0,
      "outputs": []
    },
    {
      "cell_type": "code",
      "metadata": {
        "id": "2COeXXey3tUh",
        "colab_type": "code",
        "colab": {}
      },
      "source": [
        "for v in Coal2LP.variables():\n",
        "    print(v.name, \"=\", v.varValue)"
      ],
      "execution_count": 0,
      "outputs": []
    },
    {
      "cell_type": "markdown",
      "metadata": {
        "id": "EAE_V2Z_3tUk",
        "colab_type": "text"
      },
      "source": [
        "Finally we can print the solution as a pair of arrays."
      ]
    },
    {
      "cell_type": "code",
      "metadata": {
        "id": "T5Jm43Iv3tUk",
        "colab_type": "code",
        "colab": {}
      },
      "source": [
        "SolutionArray=np.array([[x[mine][station].varValue for station in Stations] for mine in Mines])\n",
        "SolutionArray2=np.asarray([[y[station][city].varValue for city in Cities] for station in Stations])\n",
        "\n",
        "print(SolutionArray)\n",
        "print(SolutionArray2)"
      ],
      "execution_count": 0,
      "outputs": []
    },
    {
      "cell_type": "code",
      "metadata": {
        "id": "e4qmAsfe3tUn",
        "colab_type": "code",
        "colab": {}
      },
      "source": [
        ""
      ],
      "execution_count": 0,
      "outputs": []
    }
  ]
}